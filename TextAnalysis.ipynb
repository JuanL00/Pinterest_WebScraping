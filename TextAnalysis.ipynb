{
 "cells": [
  {
   "cell_type": "markdown",
   "metadata": {},
   "source": [
    "# Análisis de Texto"
   ]
  },
  {
   "cell_type": "markdown",
   "metadata": {},
   "source": [
    "#### Importar librerias"
   ]
  },
  {
   "cell_type": "code",
   "execution_count": 1,
   "metadata": {},
   "outputs": [],
   "source": [
    "import openpyxl\n",
    "import pandas as pd\n",
    "import numpy as np\n",
    "import matplotlib.pyplot as plt\n",
    "import seaborn as sb\n",
    "import nltk\n",
    "import glob\n",
    "import re\n",
    "import urllib\n",
    "import requests\n",
    "import os\n",
    "import wget\n",
    "import time\n",
    "from collections import defaultdict\n",
    "from sklearn import preprocessing\n",
    "from bs4 import BeautifulSoup\n",
    "from urllib.request import urlopen\n",
    "from nltk.corpus import stopwords\n",
    "from nltk.tokenize import word_tokenize\n",
    "from nltk.util import ngrams"
   ]
  },
  {
   "cell_type": "markdown",
   "metadata": {},
   "source": [
    "### Cargar archivo csv"
   ]
  },
  {
   "cell_type": "code",
   "execution_count": 2,
   "metadata": {},
   "outputs": [],
   "source": [
    "pines = pd.read_csv(\"pins_20220306.csv\")"
   ]
  },
  {
   "cell_type": "code",
   "execution_count": 3,
   "metadata": {},
   "outputs": [],
   "source": [
    "pines.rename(columns={'pin_id':'id','comment':'comentarios','created_at':'creado','domain':'dominio'}, inplace=True)"
   ]
  },
  {
   "cell_type": "code",
   "execution_count": 4,
   "metadata": {},
   "outputs": [
    {
     "data": {
      "text/plain": [
       "(305740, 15)"
      ]
     },
     "execution_count": 4,
     "metadata": {},
     "output_type": "execute_result"
    }
   ],
   "source": [
    "pines.shape"
   ]
  },
  {
   "cell_type": "markdown",
   "metadata": {},
   "source": [
    "#### Transformar a NaN espacios en blanco en columna [comentarios]"
   ]
  },
  {
   "cell_type": "code",
   "execution_count": 5,
   "metadata": {},
   "outputs": [],
   "source": [
    "pines[\"comentarios\"] = pines[\"comentarios\"].replace(' ', np.nan, inplace=False)"
   ]
  },
  {
   "cell_type": "markdown",
   "metadata": {},
   "source": [
    "#### Eliminar todas las filas con valor NaN en columna [comentarios]"
   ]
  },
  {
   "cell_type": "code",
   "execution_count": 6,
   "metadata": {},
   "outputs": [],
   "source": [
    "pines = pines.dropna(axis=0, subset=[\"comentarios\"])"
   ]
  },
  {
   "cell_type": "code",
   "execution_count": 7,
   "metadata": {},
   "outputs": [
    {
     "data": {
      "text/html": [
       "<div>\n",
       "<style scoped>\n",
       "    .dataframe tbody tr th:only-of-type {\n",
       "        vertical-align: middle;\n",
       "    }\n",
       "\n",
       "    .dataframe tbody tr th {\n",
       "        vertical-align: top;\n",
       "    }\n",
       "\n",
       "    .dataframe thead th {\n",
       "        text-align: right;\n",
       "    }\n",
       "</style>\n",
       "<table border=\"1\" class=\"dataframe\">\n",
       "  <thead>\n",
       "    <tr style=\"text-align: right;\">\n",
       "      <th></th>\n",
       "      <th>Unnamed: 0</th>\n",
       "      <th>Unnamed: 0.1</th>\n",
       "      <th>id</th>\n",
       "      <th>userId</th>\n",
       "      <th>userName</th>\n",
       "      <th>dominio</th>\n",
       "      <th>img_Url</th>\n",
       "      <th>comentarios</th>\n",
       "      <th>title</th>\n",
       "      <th>creado</th>\n",
       "      <th>follower_count</th>\n",
       "      <th>locale</th>\n",
       "      <th>reaction_counts</th>\n",
       "      <th>repin_count</th>\n",
       "      <th>Unnamed: 0.1.1</th>\n",
       "    </tr>\n",
       "  </thead>\n",
       "  <tbody>\n",
       "    <tr>\n",
       "      <th>4</th>\n",
       "      <td>4</td>\n",
       "      <td>4</td>\n",
       "      <td>411305378457667982</td>\n",
       "      <td>1.071014e+17</td>\n",
       "      <td>oyshostore</td>\n",
       "      <td>oysho.com</td>\n",
       "      <td>https://i.pinimg.com/originals/e8/96/1d/e8961d...</td>\n",
       "      <td>Orchid flower nightdress - New In - LINGERIE |...</td>\n",
       "      <td>Orchid flower nightdress - New In - LINGERIE |...</td>\n",
       "      <td>Fri, 21 Apr 2017 05:08:25 +0000</td>\n",
       "      <td>58163</td>\n",
       "      <td>es-ES</td>\n",
       "      <td>{}</td>\n",
       "      <td>0</td>\n",
       "      <td>NaN</td>\n",
       "    </tr>\n",
       "    <tr>\n",
       "      <th>5</th>\n",
       "      <td>5</td>\n",
       "      <td>5</td>\n",
       "      <td>737534876445681460</td>\n",
       "      <td>1.071014e+17</td>\n",
       "      <td>oyshostore</td>\n",
       "      <td>oysho.com</td>\n",
       "      <td>https://i.pinimg.com/originals/9f/3f/94/9f3f94...</td>\n",
       "      <td>Grey striped rabbit top - New In - Autumn Wint...</td>\n",
       "      <td>Grey striped rabbit top - New In - NIGHTWEAR |...</td>\n",
       "      <td>Sat, 01 Oct 2016 09:58:22 +0000</td>\n",
       "      <td>58163</td>\n",
       "      <td>es-ES</td>\n",
       "      <td>{}</td>\n",
       "      <td>0</td>\n",
       "      <td>NaN</td>\n",
       "    </tr>\n",
       "    <tr>\n",
       "      <th>6</th>\n",
       "      <td>6</td>\n",
       "      <td>6</td>\n",
       "      <td>250372060513819486</td>\n",
       "      <td>1.071014e+17</td>\n",
       "      <td>oyshostore</td>\n",
       "      <td>oysho.com</td>\n",
       "      <td>https://i.pinimg.com/originals/4f/cd/28/4fcd28...</td>\n",
       "      <td>Jersey stripe trousers - New In - Autumn Winte...</td>\n",
       "      <td>Jersey stripe trousers - New In - ACTIVEWEAR |...</td>\n",
       "      <td>Wed, 19 Oct 2016 07:53:38 +0000</td>\n",
       "      <td>58163</td>\n",
       "      <td>es-ES</td>\n",
       "      <td>{}</td>\n",
       "      <td>0</td>\n",
       "      <td>NaN</td>\n",
       "    </tr>\n",
       "  </tbody>\n",
       "</table>\n",
       "</div>"
      ],
      "text/plain": [
       "   Unnamed: 0  Unnamed: 0.1                  id        userId    userName  \\\n",
       "4           4             4  411305378457667982  1.071014e+17  oyshostore   \n",
       "5           5             5  737534876445681460  1.071014e+17  oyshostore   \n",
       "6           6             6  250372060513819486  1.071014e+17  oyshostore   \n",
       "\n",
       "     dominio                                            img_Url  \\\n",
       "4  oysho.com  https://i.pinimg.com/originals/e8/96/1d/e8961d...   \n",
       "5  oysho.com  https://i.pinimg.com/originals/9f/3f/94/9f3f94...   \n",
       "6  oysho.com  https://i.pinimg.com/originals/4f/cd/28/4fcd28...   \n",
       "\n",
       "                                         comentarios  \\\n",
       "4  Orchid flower nightdress - New In - LINGERIE |...   \n",
       "5  Grey striped rabbit top - New In - Autumn Wint...   \n",
       "6  Jersey stripe trousers - New In - Autumn Winte...   \n",
       "\n",
       "                                               title  \\\n",
       "4  Orchid flower nightdress - New In - LINGERIE |...   \n",
       "5  Grey striped rabbit top - New In - NIGHTWEAR |...   \n",
       "6  Jersey stripe trousers - New In - ACTIVEWEAR |...   \n",
       "\n",
       "                            creado  follower_count locale reaction_counts  \\\n",
       "4  Fri, 21 Apr 2017 05:08:25 +0000           58163  es-ES              {}   \n",
       "5  Sat, 01 Oct 2016 09:58:22 +0000           58163  es-ES              {}   \n",
       "6  Wed, 19 Oct 2016 07:53:38 +0000           58163  es-ES              {}   \n",
       "\n",
       "   repin_count  Unnamed: 0.1.1  \n",
       "4            0             NaN  \n",
       "5            0             NaN  \n",
       "6            0             NaN  "
      ]
     },
     "execution_count": 7,
     "metadata": {},
     "output_type": "execute_result"
    }
   ],
   "source": [
    "pines.head(3)"
   ]
  },
  {
   "cell_type": "code",
   "execution_count": 8,
   "metadata": {},
   "outputs": [
    {
     "data": {
      "text/plain": [
       "(204700, 15)"
      ]
     },
     "execution_count": 8,
     "metadata": {},
     "output_type": "execute_result"
    }
   ],
   "source": [
    "pines.shape"
   ]
  },
  {
   "cell_type": "markdown",
   "metadata": {},
   "source": [
    "### Delimitar temporada y el rango de años en columna [creado]"
   ]
  },
  {
   "cell_type": "code",
   "execution_count": 9,
   "metadata": {},
   "outputs": [
    {
     "data": {
      "text/plain": [
       "4         Fri, 21 Apr 2017 05:08:25 +0000\n",
       "5         Sat, 01 Oct 2016 09:58:22 +0000\n",
       "6         Wed, 19 Oct 2016 07:53:38 +0000\n",
       "7         Tue, 20 Dec 2016 20:32:55 +0000\n",
       "8         Wed, 30 Nov 2016 15:35:19 +0000\n",
       "                       ...               \n",
       "305731    Wed, 10 Nov 2021 08:09:12 +0000\n",
       "305733    Mon, 27 Sep 2021 04:24:10 +0000\n",
       "305735    Thu, 23 Sep 2021 05:43:16 +0000\n",
       "305736    Mon, 27 Sep 2021 04:23:43 +0000\n",
       "305738    Mon, 27 Sep 2021 04:08:21 +0000\n",
       "Name: creado, Length: 204700, dtype: object"
      ]
     },
     "execution_count": 9,
     "metadata": {},
     "output_type": "execute_result"
    }
   ],
   "source": [
    "pines.creado"
   ]
  },
  {
   "cell_type": "code",
   "execution_count": 10,
   "metadata": {},
   "outputs": [],
   "source": [
    "pines[\"creado\"] = [i[5:-15] for i in pines.creado]"
   ]
  },
  {
   "cell_type": "code",
   "execution_count": 11,
   "metadata": {},
   "outputs": [],
   "source": [
    "pines['creado'] = pd.to_datetime(pines['creado'])\n"
   ]
  },
  {
   "cell_type": "markdown",
   "metadata": {},
   "source": [
    "##### Ordenar por año en ascendencia"
   ]
  },
  {
   "cell_type": "code",
   "execution_count": 12,
   "metadata": {},
   "outputs": [],
   "source": [
    "pines = pines.sort_values(by=[\"creado\"],ascending=True)"
   ]
  },
  {
   "cell_type": "code",
   "execution_count": 13,
   "metadata": {},
   "outputs": [
    {
     "data": {
      "text/html": [
       "<div>\n",
       "<style scoped>\n",
       "    .dataframe tbody tr th:only-of-type {\n",
       "        vertical-align: middle;\n",
       "    }\n",
       "\n",
       "    .dataframe tbody tr th {\n",
       "        vertical-align: top;\n",
       "    }\n",
       "\n",
       "    .dataframe thead th {\n",
       "        text-align: right;\n",
       "    }\n",
       "</style>\n",
       "<table border=\"1\" class=\"dataframe\">\n",
       "  <thead>\n",
       "    <tr style=\"text-align: right;\">\n",
       "      <th></th>\n",
       "      <th>Unnamed: 0</th>\n",
       "      <th>Unnamed: 0.1</th>\n",
       "      <th>id</th>\n",
       "      <th>userId</th>\n",
       "      <th>userName</th>\n",
       "      <th>dominio</th>\n",
       "      <th>img_Url</th>\n",
       "      <th>comentarios</th>\n",
       "      <th>title</th>\n",
       "      <th>creado</th>\n",
       "      <th>follower_count</th>\n",
       "      <th>locale</th>\n",
       "      <th>reaction_counts</th>\n",
       "      <th>repin_count</th>\n",
       "      <th>Unnamed: 0.1.1</th>\n",
       "    </tr>\n",
       "  </thead>\n",
       "  <tbody>\n",
       "    <tr>\n",
       "      <th>115964</th>\n",
       "      <td>3090</td>\n",
       "      <td>3090</td>\n",
       "      <td>46795283597629927</td>\n",
       "      <td>1.719814e+17</td>\n",
       "      <td>metmuseum</td>\n",
       "      <td>metmuseum.org</td>\n",
       "      <td>https://i.pinimg.com/originals/7e/2d/8d/7e2d8d...</td>\n",
       "      <td>love the lines on this swimming suit</td>\n",
       "      <td>Rudi Gernreich | Bikini | American | The Metro...</td>\n",
       "      <td>2010-11-18</td>\n",
       "      <td>887277</td>\n",
       "      <td>en-US</td>\n",
       "      <td>{}</td>\n",
       "      <td>2</td>\n",
       "      <td>NaN</td>\n",
       "    </tr>\n",
       "    <tr>\n",
       "      <th>268834</th>\n",
       "      <td>115964</td>\n",
       "      <td>3090</td>\n",
       "      <td>46795283597629927</td>\n",
       "      <td>1.719814e+17</td>\n",
       "      <td>metmuseum</td>\n",
       "      <td>metmuseum.org</td>\n",
       "      <td>https://i.pinimg.com/originals/7e/2d/8d/7e2d8d...</td>\n",
       "      <td>love the lines on this swimming suit</td>\n",
       "      <td>Rudi Gernreich | Bikini | American | The Metro...</td>\n",
       "      <td>2010-11-18</td>\n",
       "      <td>887277</td>\n",
       "      <td>en-US</td>\n",
       "      <td>{}</td>\n",
       "      <td>2</td>\n",
       "      <td>3090.0</td>\n",
       "    </tr>\n",
       "    <tr>\n",
       "      <th>165656</th>\n",
       "      <td>12786</td>\n",
       "      <td>2786</td>\n",
       "      <td>211174952011305</td>\n",
       "      <td>2.113124e+14</td>\n",
       "      <td>https://www.pinterest.com/duchampian/</td>\n",
       "      <td>Uploaded by user</td>\n",
       "      <td>https://i.pinimg.com/originals/79/6d/07/796d07...</td>\n",
       "      <td>new bathing suit. just had to have it. wish it...</td>\n",
       "      <td>NaN</td>\n",
       "      <td>2011-03-24</td>\n",
       "      <td>0</td>\n",
       "      <td>NaN</td>\n",
       "      <td>{}</td>\n",
       "      <td>0</td>\n",
       "      <td>2786.0</td>\n",
       "    </tr>\n",
       "    <tr>\n",
       "      <th>12786</th>\n",
       "      <td>2786</td>\n",
       "      <td>2786</td>\n",
       "      <td>211174952011305</td>\n",
       "      <td>2.113124e+14</td>\n",
       "      <td>https://www.pinterest.com/duchampian/</td>\n",
       "      <td>Uploaded by user</td>\n",
       "      <td>https://i.pinimg.com/originals/79/6d/07/796d07...</td>\n",
       "      <td>new bathing suit. just had to have it. wish it...</td>\n",
       "      <td>NaN</td>\n",
       "      <td>2011-03-24</td>\n",
       "      <td>0</td>\n",
       "      <td>NaN</td>\n",
       "      <td>{}</td>\n",
       "      <td>0</td>\n",
       "      <td>NaN</td>\n",
       "    </tr>\n",
       "    <tr>\n",
       "      <th>33082</th>\n",
       "      <td>3082</td>\n",
       "      <td>3082</td>\n",
       "      <td>37858453087064062</td>\n",
       "      <td>3.785859e+16</td>\n",
       "      <td>https://www.pinterest.com/iforgotyourface/</td>\n",
       "      <td>glamoursplash.com</td>\n",
       "      <td>https://i.pinimg.com/originals/8d/21/f7/8d21f7...</td>\n",
       "      <td>THESE COLORS. THAT BACK HARNESS.</td>\n",
       "      <td>As seen from the back - Vintage Swimwear 1961</td>\n",
       "      <td>2011-05-17</td>\n",
       "      <td>0</td>\n",
       "      <td>NaN</td>\n",
       "      <td>{}</td>\n",
       "      <td>1</td>\n",
       "      <td>NaN</td>\n",
       "    </tr>\n",
       "  </tbody>\n",
       "</table>\n",
       "</div>"
      ],
      "text/plain": [
       "        Unnamed: 0  Unnamed: 0.1                 id        userId  \\\n",
       "115964        3090          3090  46795283597629927  1.719814e+17   \n",
       "268834      115964          3090  46795283597629927  1.719814e+17   \n",
       "165656       12786          2786    211174952011305  2.113124e+14   \n",
       "12786         2786          2786    211174952011305  2.113124e+14   \n",
       "33082         3082          3082  37858453087064062  3.785859e+16   \n",
       "\n",
       "                                          userName            dominio  \\\n",
       "115964                                   metmuseum      metmuseum.org   \n",
       "268834                                   metmuseum      metmuseum.org   \n",
       "165656       https://www.pinterest.com/duchampian/   Uploaded by user   \n",
       "12786        https://www.pinterest.com/duchampian/   Uploaded by user   \n",
       "33082   https://www.pinterest.com/iforgotyourface/  glamoursplash.com   \n",
       "\n",
       "                                                  img_Url  \\\n",
       "115964  https://i.pinimg.com/originals/7e/2d/8d/7e2d8d...   \n",
       "268834  https://i.pinimg.com/originals/7e/2d/8d/7e2d8d...   \n",
       "165656  https://i.pinimg.com/originals/79/6d/07/796d07...   \n",
       "12786   https://i.pinimg.com/originals/79/6d/07/796d07...   \n",
       "33082   https://i.pinimg.com/originals/8d/21/f7/8d21f7...   \n",
       "\n",
       "                                              comentarios  \\\n",
       "115964               love the lines on this swimming suit   \n",
       "268834               love the lines on this swimming suit   \n",
       "165656  new bathing suit. just had to have it. wish it...   \n",
       "12786   new bathing suit. just had to have it. wish it...   \n",
       "33082                   THESE COLORS. THAT BACK HARNESS.    \n",
       "\n",
       "                                                    title     creado  \\\n",
       "115964  Rudi Gernreich | Bikini | American | The Metro... 2010-11-18   \n",
       "268834  Rudi Gernreich | Bikini | American | The Metro... 2010-11-18   \n",
       "165656                                                NaN 2011-03-24   \n",
       "12786                                                 NaN 2011-03-24   \n",
       "33082       As seen from the back - Vintage Swimwear 1961 2011-05-17   \n",
       "\n",
       "        follower_count locale reaction_counts  repin_count  Unnamed: 0.1.1  \n",
       "115964          887277  en-US              {}            2             NaN  \n",
       "268834          887277  en-US              {}            2          3090.0  \n",
       "165656               0    NaN              {}            0          2786.0  \n",
       "12786                0    NaN              {}            0             NaN  \n",
       "33082                0    NaN              {}            1             NaN  "
      ]
     },
     "execution_count": 13,
     "metadata": {},
     "output_type": "execute_result"
    }
   ],
   "source": [
    "pines.head()"
   ]
  },
  {
   "cell_type": "markdown",
   "metadata": {},
   "source": [
    "#### Rango (2015 - 2020) entre meses (Marzo - Septiembre) cada año"
   ]
  },
  {
   "cell_type": "code",
   "execution_count": 14,
   "metadata": {},
   "outputs": [],
   "source": [
    "pines_filtrados = pines[pines[\"creado\"].isin(pd.date_range('2016-03-01', '2020-09-30'))]"
   ]
  },
  {
   "cell_type": "code",
   "execution_count": 15,
   "metadata": {},
   "outputs": [
    {
     "name": "stderr",
     "output_type": "stream",
     "text": [
      "/Users/JuanLeyva/opt/anaconda3/lib/python3.7/site-packages/ipykernel_launcher.py:1: UserWarning: Boolean Series key will be reindexed to match DataFrame index.\n",
      "  \"\"\"Entry point for launching an IPython kernel.\n"
     ]
    }
   ],
   "source": [
    "pines_filtrados = pines_filtrados[(pines_filtrados['creado'].dt.strftime('%m') >= '03') & (pines['creado'].dt.strftime('%m') <= '09')]\n"
   ]
  },
  {
   "cell_type": "markdown",
   "metadata": {},
   "source": [
    "##### Detectar si hay comentarios en meses posteriores a Septiembre"
   ]
  },
  {
   "cell_type": "code",
   "execution_count": 16,
   "metadata": {},
   "outputs": [
    {
     "data": {
      "text/html": [
       "<div>\n",
       "<style scoped>\n",
       "    .dataframe tbody tr th:only-of-type {\n",
       "        vertical-align: middle;\n",
       "    }\n",
       "\n",
       "    .dataframe tbody tr th {\n",
       "        vertical-align: top;\n",
       "    }\n",
       "\n",
       "    .dataframe thead th {\n",
       "        text-align: right;\n",
       "    }\n",
       "</style>\n",
       "<table border=\"1\" class=\"dataframe\">\n",
       "  <thead>\n",
       "    <tr style=\"text-align: right;\">\n",
       "      <th></th>\n",
       "      <th>Unnamed: 0</th>\n",
       "      <th>Unnamed: 0.1</th>\n",
       "      <th>id</th>\n",
       "      <th>userId</th>\n",
       "      <th>userName</th>\n",
       "      <th>dominio</th>\n",
       "      <th>img_Url</th>\n",
       "      <th>comentarios</th>\n",
       "      <th>title</th>\n",
       "      <th>creado</th>\n",
       "      <th>follower_count</th>\n",
       "      <th>locale</th>\n",
       "      <th>reaction_counts</th>\n",
       "      <th>repin_count</th>\n",
       "      <th>Unnamed: 0.1.1</th>\n",
       "    </tr>\n",
       "  </thead>\n",
       "  <tbody>\n",
       "  </tbody>\n",
       "</table>\n",
       "</div>"
      ],
      "text/plain": [
       "Empty DataFrame\n",
       "Columns: [Unnamed: 0, Unnamed: 0.1, id, userId, userName, dominio, img_Url, comentarios, title, creado, follower_count, locale, reaction_counts, repin_count, Unnamed: 0.1.1]\n",
       "Index: []"
      ]
     },
     "execution_count": 16,
     "metadata": {},
     "output_type": "execute_result"
    }
   ],
   "source": [
    "pines_filtrados[pines_filtrados['creado'].dt.strftime('%m') > '09']\n"
   ]
  },
  {
   "cell_type": "code",
   "execution_count": 17,
   "metadata": {},
   "outputs": [
    {
     "data": {
      "text/plain": [
       "(70388, 15)"
      ]
     },
     "execution_count": 17,
     "metadata": {},
     "output_type": "execute_result"
    }
   ],
   "source": [
    "pines_filtrados.shape"
   ]
  },
  {
   "cell_type": "markdown",
   "metadata": {},
   "source": [
    "### Función limpieza & conversion a Tokens"
   ]
  },
  {
   "cell_type": "code",
   "execution_count": 18,
   "metadata": {},
   "outputs": [],
   "source": [
    "def unigram_tokens(comentarios): \n",
    "    # Se convierte todo el texto a minúsculas\n",
    "    comentario = comentarios.lower()\n",
    "    # Eliminación de páginas web (palabras que empiezan por \"http\")\n",
    "    comentario = re.sub('http\\S+', ' ', comentario)\n",
    "    # Eliminación de hipervinculos\n",
    "    comentario = re.sub('href\\S+', ' ', comentario)\n",
    "    # Eliminación de signos de puntuación\n",
    "    regex = '[\\\\!\\\\\"\\\\#\\\\$\\\\%\\\\&\\\\\\'\\\\(\\\\)\\\\*\\\\+\\\\,\\\\-\\\\.\\\\/\\\\:\\\\;\\\\<\\\\=\\\\>\\\\?\\\\@\\\\[\\\\]\\\\^_\\\\`\\\\{\\\\|\\\\}\\\\~]'\n",
    "    comentario = re.sub(regex , ' ', comentario)\n",
    "    # Eliminación de espacios en blanco múltiples\n",
    "    comentario = re.sub(\"\\\\s+\", ' ', comentario)\n",
    "    # Tokenización por palabras individuales\n",
    "    comentario = comentario.split(sep = ' ')\n",
    "    # Eliminación de tokens con una longitud < 2\n",
    "    comentario = [token for token in comentario if len(token) > 1]\n",
    "    # Eliminacion de las StopWords\n",
    "    stop_words = set(stopwords.words('english'))\n",
    "    comentario = [w for w in comentario if not w.lower() in stop_words]\n",
    "    \n",
    "    return(comentario)"
   ]
  },
  {
   "cell_type": "markdown",
   "metadata": {},
   "source": [
    "## N-grams"
   ]
  },
  {
   "cell_type": "markdown",
   "metadata": {},
   "source": [
    "#### Unigram"
   ]
  },
  {
   "cell_type": "markdown",
   "metadata": {},
   "source": [
    "##### Tokenizacion por comentario"
   ]
  },
  {
   "cell_type": "code",
   "execution_count": 19,
   "metadata": {},
   "outputs": [
    {
     "data": {
      "text/html": [
       "<div>\n",
       "<style scoped>\n",
       "    .dataframe tbody tr th:only-of-type {\n",
       "        vertical-align: middle;\n",
       "    }\n",
       "\n",
       "    .dataframe tbody tr th {\n",
       "        vertical-align: top;\n",
       "    }\n",
       "\n",
       "    .dataframe thead th {\n",
       "        text-align: right;\n",
       "    }\n",
       "</style>\n",
       "<table border=\"1\" class=\"dataframe\">\n",
       "  <thead>\n",
       "    <tr style=\"text-align: right;\">\n",
       "      <th></th>\n",
       "      <th>comentarios</th>\n",
       "      <th>unigram_tokens</th>\n",
       "    </tr>\n",
       "  </thead>\n",
       "  <tbody>\n",
       "    <tr>\n",
       "      <th>626</th>\n",
       "      <td>Seea Adria Bikini Top</td>\n",
       "      <td>[seea, adria, bikini, top]</td>\n",
       "    </tr>\n",
       "    <tr>\n",
       "      <th>186566</th>\n",
       "      <td>Out From Under Carolina Maxi Slip</td>\n",
       "      <td>[carolina, maxi, slip]</td>\n",
       "    </tr>\n",
       "    <tr>\n",
       "      <th>158268</th>\n",
       "      <td>Dsquared2 - Spring 2016 RTW - The Cut</td>\n",
       "      <td>[dsquared2, spring, 2016, rtw, cut]</td>\n",
       "    </tr>\n",
       "    <tr>\n",
       "      <th>66158</th>\n",
       "      <td>Monokini crochet</td>\n",
       "      <td>[monokini, crochet]</td>\n",
       "    </tr>\n",
       "    <tr>\n",
       "      <th>221445</th>\n",
       "      <td>Anthropologie</td>\n",
       "      <td>[anthropologie]</td>\n",
       "    </tr>\n",
       "  </tbody>\n",
       "</table>\n",
       "</div>"
      ],
      "text/plain": [
       "                                  comentarios  \\\n",
       "626                     Seea Adria Bikini Top   \n",
       "186566      Out From Under Carolina Maxi Slip   \n",
       "158268  Dsquared2 - Spring 2016 RTW - The Cut   \n",
       "66158                        Monokini crochet   \n",
       "221445                          Anthropologie   \n",
       "\n",
       "                             unigram_tokens  \n",
       "626              [seea, adria, bikini, top]  \n",
       "186566               [carolina, maxi, slip]  \n",
       "158268  [dsquared2, spring, 2016, rtw, cut]  \n",
       "66158                   [monokini, crochet]  \n",
       "221445                      [anthropologie]  "
      ]
     },
     "execution_count": 19,
     "metadata": {},
     "output_type": "execute_result"
    }
   ],
   "source": [
    "pines_filtrados['unigram_tokens'] = pines_filtrados['comentarios'].apply(lambda x: unigram_tokens(x))\n",
    "pines_filtrados[['comentarios', 'unigram_tokens']].head()"
   ]
  },
  {
   "cell_type": "markdown",
   "metadata": {},
   "source": [
    "#### Bigrams"
   ]
  },
  {
   "cell_type": "markdown",
   "metadata": {},
   "source": [
    "##### Tokenizacion por comentario"
   ]
  },
  {
   "cell_type": "code",
   "execution_count": 20,
   "metadata": {},
   "outputs": [],
   "source": [
    "pines_filtrados['bigram_tokens'] = pines_filtrados['unigram_tokens'].apply(lambda x: list(ngrams(x,2)))"
   ]
  },
  {
   "cell_type": "code",
   "execution_count": 21,
   "metadata": {},
   "outputs": [],
   "source": [
    "pines_filtrados['bigram_tokens'] = pines_filtrados['bigram_tokens'].apply(lambda x: [*map(' '.join,x)])"
   ]
  },
  {
   "cell_type": "code",
   "execution_count": 22,
   "metadata": {},
   "outputs": [
    {
     "data": {
      "text/plain": [
       "626                [seea, adria, bikini, top]\n",
       "186566                 [carolina, maxi, slip]\n",
       "158268    [dsquared2, spring, 2016, rtw, cut]\n",
       "66158                     [monokini, crochet]\n",
       "221445                        [anthropologie]\n",
       "Name: unigram_tokens, dtype: object"
      ]
     },
     "execution_count": 22,
     "metadata": {},
     "output_type": "execute_result"
    }
   ],
   "source": [
    "pines_filtrados['unigram_tokens'].head()"
   ]
  },
  {
   "cell_type": "code",
   "execution_count": 23,
   "metadata": {},
   "outputs": [
    {
     "data": {
      "text/plain": [
       "626                  [seea adria, adria bikini, bikini top]\n",
       "186566                           [carolina maxi, maxi slip]\n",
       "158268    [dsquared2 spring, spring 2016, 2016 rtw, rtw ...\n",
       "66158                                    [monokini crochet]\n",
       "221445                                                   []\n",
       "Name: bigram_tokens, dtype: object"
      ]
     },
     "execution_count": 23,
     "metadata": {},
     "output_type": "execute_result"
    }
   ],
   "source": [
    "pines_filtrados['bigram_tokens'].head()"
   ]
  },
  {
   "cell_type": "markdown",
   "metadata": {},
   "source": [
    "### Leer archivo xlsx - archivo(Catart)"
   ]
  },
  {
   "cell_type": "code",
   "execution_count": 24,
   "metadata": {},
   "outputs": [],
   "source": [
    "cat = pd.read_excel(\"Catart_2.xlsx\")"
   ]
  },
  {
   "cell_type": "markdown",
   "metadata": {},
   "source": [
    "#### Preprocesamiento y limpieza - archivo(Catart)"
   ]
  },
  {
   "cell_type": "markdown",
   "metadata": {},
   "source": [
    "##### Guardar cada atributo en una variable"
   ]
  },
  {
   "cell_type": "code",
   "execution_count": 25,
   "metadata": {},
   "outputs": [],
   "source": [
    "color = cat.COLOR\n",
    "estilo = cat.ESTILO\n",
    "tela = cat.DESCCOMPOSICION"
   ]
  },
  {
   "cell_type": "markdown",
   "metadata": {},
   "source": [
    "##### Eliminar valores NaN"
   ]
  },
  {
   "cell_type": "code",
   "execution_count": 26,
   "metadata": {},
   "outputs": [],
   "source": [
    "color = color.dropna()\n",
    "estilo = estilo.dropna()\n",
    "tela = tela.dropna()"
   ]
  },
  {
   "cell_type": "markdown",
   "metadata": {},
   "source": [
    "##### Convertir todos los elementos en minusculas"
   ]
  },
  {
   "cell_type": "code",
   "execution_count": 27,
   "metadata": {},
   "outputs": [],
   "source": [
    "color = color.str.lower()\n",
    "estilo = estilo.str.lower()\n",
    "tela = tela.str.lower()"
   ]
  },
  {
   "cell_type": "markdown",
   "metadata": {},
   "source": [
    "##### Eliminar elementos duplicados"
   ]
  },
  {
   "cell_type": "code",
   "execution_count": 28,
   "metadata": {},
   "outputs": [],
   "source": [
    "color = color.drop_duplicates()\n",
    "estilo = estilo.drop_duplicates()\n",
    "tela = tela.drop_duplicates()"
   ]
  },
  {
   "cell_type": "markdown",
   "metadata": {},
   "source": [
    "##### Seleccionar solo los elementos de estilo"
   ]
  },
  {
   "cell_type": "code",
   "execution_count": 29,
   "metadata": {},
   "outputs": [],
   "source": [
    "#estilo = [i[3:] for i in estilo]\n"
   ]
  },
  {
   "cell_type": "markdown",
   "metadata": {},
   "source": [
    "##### Convertir en lista cada atributo"
   ]
  },
  {
   "cell_type": "code",
   "execution_count": 30,
   "metadata": {},
   "outputs": [],
   "source": [
    "estilo = list(dict.fromkeys(estilo))"
   ]
  },
  {
   "cell_type": "code",
   "execution_count": 31,
   "metadata": {},
   "outputs": [],
   "source": [
    "tela = list(dict.fromkeys(tela))"
   ]
  },
  {
   "cell_type": "code",
   "execution_count": 32,
   "metadata": {},
   "outputs": [],
   "source": [
    "color = list(dict.fromkeys(color))"
   ]
  },
  {
   "cell_type": "markdown",
   "metadata": {},
   "source": [
    "## Nested List Comprenhensions"
   ]
  },
  {
   "cell_type": "markdown",
   "metadata": {},
   "source": [
    "#### Detectar atributos (color, tela y estilo) por comentario - (Datos entrenamiento)"
   ]
  },
  {
   "cell_type": "code",
   "execution_count": 33,
   "metadata": {},
   "outputs": [
    {
     "data": {
      "text/plain": [
       "626                  [seea adria, adria bikini, bikini top]\n",
       "186566                           [carolina maxi, maxi slip]\n",
       "158268    [dsquared2 spring, spring 2016, 2016 rtw, rtw ...\n",
       "66158                                    [monokini crochet]\n",
       "221445                                                   []\n",
       "                                ...                        \n",
       "121905    [new acacia, acacia orchid, orchid crochet, cr...\n",
       "160932    [shop fast, fast growing, growing online, onli...\n",
       "107040    [33 white, white jumpsuits, jumpsuits weddings...\n",
       "137678    [first shop, shop new, new arrivals, arrivals ...\n",
       "276779    [whether you’re, you’re planning, planning nex...\n",
       "Name: bigram_tokens, Length: 70388, dtype: object"
      ]
     },
     "execution_count": 33,
     "metadata": {},
     "output_type": "execute_result"
    }
   ],
   "source": [
    "pines_filtrados['bigram_tokens']"
   ]
  },
  {
   "cell_type": "code",
   "execution_count": 34,
   "metadata": {},
   "outputs": [],
   "source": [
    "Atributo_C = []\n",
    "for comentario in pines_filtrados['unigram_tokens']:\n",
    "    atributo = [token for token in comentario if token in color if token in comentario]\n",
    "    Atributo_C.append(atributo)\n"
   ]
  },
  {
   "cell_type": "code",
   "execution_count": 35,
   "metadata": {},
   "outputs": [],
   "source": [
    "Atributo_T = []\n",
    "for comentario in pines_filtrados['bigram_tokens']:\n",
    "    atributo = [elemento for subs in comentario for elemento in tela if elemento in subs]\n",
    "    Atributo_T.append(atributo)\n"
   ]
  },
  {
   "cell_type": "code",
   "execution_count": 36,
   "metadata": {},
   "outputs": [],
   "source": [
    "Atributo_E = []\n",
    "for comentario in pines_filtrados['bigram_tokens']:\n",
    "    atributo = [elemento for subs in comentario for elemento in estilo if elemento in subs]\n",
    "    Atributo_E.append(atributo)\n"
   ]
  },
  {
   "cell_type": "markdown",
   "metadata": {},
   "source": [
    "##### Convertir atributos en Dataframe"
   ]
  },
  {
   "cell_type": "code",
   "execution_count": 37,
   "metadata": {},
   "outputs": [],
   "source": [
    "df_c = pd.DataFrame(Atributo_C)\n",
    "df_t = pd.DataFrame(Atributo_T)\n",
    "df_e = pd.DataFrame(Atributo_E)"
   ]
  },
  {
   "cell_type": "markdown",
   "metadata": {},
   "source": [
    "##### Renombrar columnas en Dataframe"
   ]
  },
  {
   "cell_type": "code",
   "execution_count": 38,
   "metadata": {},
   "outputs": [],
   "source": [
    "df_c.rename(columns = {0 : \"color_1\", 1: \"color_2\", 2: \"color_3\"},inplace=True)\n",
    "df_t.rename(columns = {0 : \"tela_1\", 1: \"tela_2\", 2: \"tela_3\"},inplace=True)\n",
    "df_e.rename(columns = {0 : \"estilo_1\", 1: \"estilo_2\", 2: \"estilo_3\"},inplace=True)"
   ]
  },
  {
   "cell_type": "markdown",
   "metadata": {},
   "source": [
    "##### Seleccionar columnas especificas en Dataframe"
   ]
  },
  {
   "cell_type": "code",
   "execution_count": 39,
   "metadata": {},
   "outputs": [],
   "source": [
    "df_c = df_c[[\"color_1\", \"color_2\", \"color_3\"]]\n",
    "df_t = df_t[[\"tela_1\", \"tela_2\", \"tela_3\"]]\n",
    "df_e = df_e[[\"estilo_1\", \"estilo_2\", \"estilo_3\"]]"
   ]
  },
  {
   "cell_type": "markdown",
   "metadata": {},
   "source": [
    "### Dataframe con columnas de interes"
   ]
  },
  {
   "cell_type": "markdown",
   "metadata": {},
   "source": [
    "##### Eliminar columnas sin relevancia"
   ]
  },
  {
   "cell_type": "code",
   "execution_count": 40,
   "metadata": {},
   "outputs": [],
   "source": [
    "df = pines_filtrados.drop(columns=[\"Unnamed: 0\",\"Unnamed: 0.1\",\"img_Url\",\"title\",\"unigram_tokens\",\"bigram_tokens\",\"reaction_counts\",\"locale\",\"Unnamed: 0.1.1\"], axis= 1).reset_index()"
   ]
  },
  {
   "cell_type": "markdown",
   "metadata": {},
   "source": [
    "##### Concatenar Dataframes para un analisis posterior"
   ]
  },
  {
   "cell_type": "code",
   "execution_count": 41,
   "metadata": {},
   "outputs": [],
   "source": [
    "df = pd.concat([df, df_c, df_t, df_e], axis=1, ignore_index=True)"
   ]
  },
  {
   "cell_type": "code",
   "execution_count": 42,
   "metadata": {},
   "outputs": [
    {
     "data": {
      "text/html": [
       "<div>\n",
       "<style scoped>\n",
       "    .dataframe tbody tr th:only-of-type {\n",
       "        vertical-align: middle;\n",
       "    }\n",
       "\n",
       "    .dataframe tbody tr th {\n",
       "        vertical-align: top;\n",
       "    }\n",
       "\n",
       "    .dataframe thead th {\n",
       "        text-align: right;\n",
       "    }\n",
       "</style>\n",
       "<table border=\"1\" class=\"dataframe\">\n",
       "  <thead>\n",
       "    <tr style=\"text-align: right;\">\n",
       "      <th></th>\n",
       "      <th>0</th>\n",
       "      <th>1</th>\n",
       "      <th>2</th>\n",
       "      <th>3</th>\n",
       "      <th>4</th>\n",
       "      <th>5</th>\n",
       "      <th>6</th>\n",
       "      <th>7</th>\n",
       "      <th>8</th>\n",
       "      <th>9</th>\n",
       "      <th>10</th>\n",
       "      <th>11</th>\n",
       "      <th>12</th>\n",
       "      <th>13</th>\n",
       "      <th>14</th>\n",
       "      <th>15</th>\n",
       "      <th>16</th>\n",
       "      <th>17</th>\n",
       "    </tr>\n",
       "  </thead>\n",
       "  <tbody>\n",
       "    <tr>\n",
       "      <th>0</th>\n",
       "      <td>626</td>\n",
       "      <td>313140980321868905</td>\n",
       "      <td>2.598016e+17</td>\n",
       "      <td>urbanoutfitters</td>\n",
       "      <td>urbanoutfitters.com</td>\n",
       "      <td>Seea Adria Bikini Top</td>\n",
       "      <td>2016-03-01</td>\n",
       "      <td>3059122</td>\n",
       "      <td>1</td>\n",
       "      <td>None</td>\n",
       "      <td>None</td>\n",
       "      <td>None</td>\n",
       "      <td>None</td>\n",
       "      <td>None</td>\n",
       "      <td>None</td>\n",
       "      <td>None</td>\n",
       "      <td>None</td>\n",
       "      <td>None</td>\n",
       "    </tr>\n",
       "    <tr>\n",
       "      <th>1</th>\n",
       "      <td>186566</td>\n",
       "      <td>70791025371281551</td>\n",
       "      <td>2.598016e+17</td>\n",
       "      <td>urbanoutfitters</td>\n",
       "      <td>urbanoutfitters.com</td>\n",
       "      <td>Out From Under Carolina Maxi Slip</td>\n",
       "      <td>2016-03-01</td>\n",
       "      <td>3059125</td>\n",
       "      <td>0</td>\n",
       "      <td>None</td>\n",
       "      <td>None</td>\n",
       "      <td>None</td>\n",
       "      <td>None</td>\n",
       "      <td>None</td>\n",
       "      <td>None</td>\n",
       "      <td>None</td>\n",
       "      <td>None</td>\n",
       "      <td>None</td>\n",
       "    </tr>\n",
       "    <tr>\n",
       "      <th>2</th>\n",
       "      <td>158268</td>\n",
       "      <td>465700417698566187</td>\n",
       "      <td>4.517694e+16</td>\n",
       "      <td>nymag</td>\n",
       "      <td>nymag.com</td>\n",
       "      <td>Dsquared2 - Spring 2016 RTW - The Cut</td>\n",
       "      <td>2016-03-01</td>\n",
       "      <td>180274</td>\n",
       "      <td>0</td>\n",
       "      <td>None</td>\n",
       "      <td>None</td>\n",
       "      <td>None</td>\n",
       "      <td>None</td>\n",
       "      <td>None</td>\n",
       "      <td>None</td>\n",
       "      <td>None</td>\n",
       "      <td>None</td>\n",
       "      <td>None</td>\n",
       "    </tr>\n",
       "    <tr>\n",
       "      <th>3</th>\n",
       "      <td>66158</td>\n",
       "      <td>407857309985061022</td>\n",
       "      <td>3.269334e+17</td>\n",
       "      <td>weloveboho</td>\n",
       "      <td>weloveboho.com</td>\n",
       "      <td>Monokini crochet</td>\n",
       "      <td>2016-03-01</td>\n",
       "      <td>201442</td>\n",
       "      <td>0</td>\n",
       "      <td>None</td>\n",
       "      <td>None</td>\n",
       "      <td>None</td>\n",
       "      <td>None</td>\n",
       "      <td>None</td>\n",
       "      <td>None</td>\n",
       "      <td>None</td>\n",
       "      <td>None</td>\n",
       "      <td>None</td>\n",
       "    </tr>\n",
       "    <tr>\n",
       "      <th>4</th>\n",
       "      <td>221445</td>\n",
       "      <td>307511480788033140</td>\n",
       "      <td>2.427742e+16</td>\n",
       "      <td>anthropologie</td>\n",
       "      <td>anthropologie.com</td>\n",
       "      <td>Anthropologie</td>\n",
       "      <td>2016-03-01</td>\n",
       "      <td>1605335</td>\n",
       "      <td>0</td>\n",
       "      <td>None</td>\n",
       "      <td>None</td>\n",
       "      <td>None</td>\n",
       "      <td>None</td>\n",
       "      <td>None</td>\n",
       "      <td>None</td>\n",
       "      <td>None</td>\n",
       "      <td>None</td>\n",
       "      <td>None</td>\n",
       "    </tr>\n",
       "  </tbody>\n",
       "</table>\n",
       "</div>"
      ],
      "text/plain": [
       "       0                   1             2                3   \\\n",
       "0     626  313140980321868905  2.598016e+17  urbanoutfitters   \n",
       "1  186566   70791025371281551  2.598016e+17  urbanoutfitters   \n",
       "2  158268  465700417698566187  4.517694e+16            nymag   \n",
       "3   66158  407857309985061022  3.269334e+17       weloveboho   \n",
       "4  221445  307511480788033140  2.427742e+16    anthropologie   \n",
       "\n",
       "                    4                                      5          6   \\\n",
       "0  urbanoutfitters.com                  Seea Adria Bikini Top 2016-03-01   \n",
       "1  urbanoutfitters.com      Out From Under Carolina Maxi Slip 2016-03-01   \n",
       "2            nymag.com  Dsquared2 - Spring 2016 RTW - The Cut 2016-03-01   \n",
       "3       weloveboho.com                       Monokini crochet 2016-03-01   \n",
       "4    anthropologie.com                          Anthropologie 2016-03-01   \n",
       "\n",
       "        7   8     9     10    11    12    13    14    15    16    17  \n",
       "0  3059122   1  None  None  None  None  None  None  None  None  None  \n",
       "1  3059125   0  None  None  None  None  None  None  None  None  None  \n",
       "2   180274   0  None  None  None  None  None  None  None  None  None  \n",
       "3   201442   0  None  None  None  None  None  None  None  None  None  \n",
       "4  1605335   0  None  None  None  None  None  None  None  None  None  "
      ]
     },
     "execution_count": 42,
     "metadata": {},
     "output_type": "execute_result"
    }
   ],
   "source": [
    "df.head()"
   ]
  },
  {
   "cell_type": "markdown",
   "metadata": {},
   "source": [
    "##### Renombrar columnas del Dataframe"
   ]
  },
  {
   "cell_type": "code",
   "execution_count": 43,
   "metadata": {},
   "outputs": [],
   "source": [
    "df = df.rename(columns={0:\"index\",1:\"id\",2:\"usuario_id\",3:\"usuario\",4:\"dominio\",5:\"comentarios\",6:\"creado\",7:\"Num_seguidores\",8:\"repin_count\",9:\"atributo_color_1\",10:\"atributo_color_2\",\n",
    "                        11:\"atributo_color_3\",12:\"atributo_tela_1\",13:\"atributo_tela_2\",14:\"atributo_tela_3\",15:\"atributo_estilo_1\",16:\"atributo_estilo_2\",17:\"atributo_estilo_3\"})\n"
   ]
  },
  {
   "cell_type": "markdown",
   "metadata": {},
   "source": [
    "##### Conversion a string - (columna [usuario_id])"
   ]
  },
  {
   "cell_type": "code",
   "execution_count": 44,
   "metadata": {},
   "outputs": [],
   "source": [
    "df['usuario_id'] = df['usuario_id'].apply(lambda x: '{:.0f}'.format(x))\n",
    "df['usuario_id'] = df['usuario_id'].astype(str)"
   ]
  },
  {
   "cell_type": "markdown",
   "metadata": {},
   "source": [
    "##### Eliminar pines duplicados"
   ]
  },
  {
   "cell_type": "code",
   "execution_count": 45,
   "metadata": {},
   "outputs": [],
   "source": [
    "df = df.drop_duplicates(subset=['id'])"
   ]
  },
  {
   "cell_type": "markdown",
   "metadata": {},
   "source": [
    "### Dataframe con atributos (max 3 elementos por atributo)"
   ]
  },
  {
   "cell_type": "code",
   "execution_count": 46,
   "metadata": {},
   "outputs": [],
   "source": [
    "df_atributos = df[[\"id\",\"usuario_id\",\"usuario\",\"comentarios\",\"creado\",\"Num_seguidores\",\"repin_count\",\"atributo_color_1\",\"atributo_color_2\",\"atributo_color_3\",\"atributo_tela_1\",\"atributo_tela_2\",\"atributo_tela_3\",\"atributo_estilo_1\",\"atributo_estilo_2\",\"atributo_estilo_3\"]]\n"
   ]
  },
  {
   "cell_type": "code",
   "execution_count": 47,
   "metadata": {},
   "outputs": [
    {
     "data": {
      "text/html": [
       "<div>\n",
       "<style scoped>\n",
       "    .dataframe tbody tr th:only-of-type {\n",
       "        vertical-align: middle;\n",
       "    }\n",
       "\n",
       "    .dataframe tbody tr th {\n",
       "        vertical-align: top;\n",
       "    }\n",
       "\n",
       "    .dataframe thead th {\n",
       "        text-align: right;\n",
       "    }\n",
       "</style>\n",
       "<table border=\"1\" class=\"dataframe\">\n",
       "  <thead>\n",
       "    <tr style=\"text-align: right;\">\n",
       "      <th></th>\n",
       "      <th>id</th>\n",
       "      <th>usuario_id</th>\n",
       "      <th>usuario</th>\n",
       "      <th>comentarios</th>\n",
       "      <th>creado</th>\n",
       "      <th>Num_seguidores</th>\n",
       "      <th>repin_count</th>\n",
       "      <th>atributo_color_1</th>\n",
       "      <th>atributo_color_2</th>\n",
       "      <th>atributo_color_3</th>\n",
       "      <th>atributo_tela_1</th>\n",
       "      <th>atributo_tela_2</th>\n",
       "      <th>atributo_tela_3</th>\n",
       "      <th>atributo_estilo_1</th>\n",
       "      <th>atributo_estilo_2</th>\n",
       "      <th>atributo_estilo_3</th>\n",
       "    </tr>\n",
       "  </thead>\n",
       "  <tbody>\n",
       "    <tr>\n",
       "      <th>0</th>\n",
       "      <td>313140980321868905</td>\n",
       "      <td>259801609662367008</td>\n",
       "      <td>urbanoutfitters</td>\n",
       "      <td>Seea Adria Bikini Top</td>\n",
       "      <td>2016-03-01</td>\n",
       "      <td>3059122</td>\n",
       "      <td>1</td>\n",
       "      <td>None</td>\n",
       "      <td>None</td>\n",
       "      <td>None</td>\n",
       "      <td>None</td>\n",
       "      <td>None</td>\n",
       "      <td>None</td>\n",
       "      <td>None</td>\n",
       "      <td>None</td>\n",
       "      <td>None</td>\n",
       "    </tr>\n",
       "    <tr>\n",
       "      <th>1</th>\n",
       "      <td>70791025371281551</td>\n",
       "      <td>259801609662367008</td>\n",
       "      <td>urbanoutfitters</td>\n",
       "      <td>Out From Under Carolina Maxi Slip</td>\n",
       "      <td>2016-03-01</td>\n",
       "      <td>3059125</td>\n",
       "      <td>0</td>\n",
       "      <td>None</td>\n",
       "      <td>None</td>\n",
       "      <td>None</td>\n",
       "      <td>None</td>\n",
       "      <td>None</td>\n",
       "      <td>None</td>\n",
       "      <td>None</td>\n",
       "      <td>None</td>\n",
       "      <td>None</td>\n",
       "    </tr>\n",
       "    <tr>\n",
       "      <th>2</th>\n",
       "      <td>465700417698566187</td>\n",
       "      <td>45176939920493432</td>\n",
       "      <td>nymag</td>\n",
       "      <td>Dsquared2 - Spring 2016 RTW - The Cut</td>\n",
       "      <td>2016-03-01</td>\n",
       "      <td>180274</td>\n",
       "      <td>0</td>\n",
       "      <td>None</td>\n",
       "      <td>None</td>\n",
       "      <td>None</td>\n",
       "      <td>None</td>\n",
       "      <td>None</td>\n",
       "      <td>None</td>\n",
       "      <td>None</td>\n",
       "      <td>None</td>\n",
       "      <td>None</td>\n",
       "    </tr>\n",
       "    <tr>\n",
       "      <th>3</th>\n",
       "      <td>407857309985061022</td>\n",
       "      <td>326933391607916864</td>\n",
       "      <td>weloveboho</td>\n",
       "      <td>Monokini crochet</td>\n",
       "      <td>2016-03-01</td>\n",
       "      <td>201442</td>\n",
       "      <td>0</td>\n",
       "      <td>None</td>\n",
       "      <td>None</td>\n",
       "      <td>None</td>\n",
       "      <td>None</td>\n",
       "      <td>None</td>\n",
       "      <td>None</td>\n",
       "      <td>None</td>\n",
       "      <td>None</td>\n",
       "      <td>None</td>\n",
       "    </tr>\n",
       "    <tr>\n",
       "      <th>4</th>\n",
       "      <td>307511480788033140</td>\n",
       "      <td>24277422899724312</td>\n",
       "      <td>anthropologie</td>\n",
       "      <td>Anthropologie</td>\n",
       "      <td>2016-03-01</td>\n",
       "      <td>1605335</td>\n",
       "      <td>0</td>\n",
       "      <td>None</td>\n",
       "      <td>None</td>\n",
       "      <td>None</td>\n",
       "      <td>None</td>\n",
       "      <td>None</td>\n",
       "      <td>None</td>\n",
       "      <td>None</td>\n",
       "      <td>None</td>\n",
       "      <td>None</td>\n",
       "    </tr>\n",
       "  </tbody>\n",
       "</table>\n",
       "</div>"
      ],
      "text/plain": [
       "                   id          usuario_id          usuario  \\\n",
       "0  313140980321868905  259801609662367008  urbanoutfitters   \n",
       "1   70791025371281551  259801609662367008  urbanoutfitters   \n",
       "2  465700417698566187   45176939920493432            nymag   \n",
       "3  407857309985061022  326933391607916864       weloveboho   \n",
       "4  307511480788033140   24277422899724312    anthropologie   \n",
       "\n",
       "                             comentarios     creado  Num_seguidores  \\\n",
       "0                  Seea Adria Bikini Top 2016-03-01         3059122   \n",
       "1      Out From Under Carolina Maxi Slip 2016-03-01         3059125   \n",
       "2  Dsquared2 - Spring 2016 RTW - The Cut 2016-03-01          180274   \n",
       "3                       Monokini crochet 2016-03-01          201442   \n",
       "4                          Anthropologie 2016-03-01         1605335   \n",
       "\n",
       "   repin_count atributo_color_1 atributo_color_2 atributo_color_3  \\\n",
       "0            1             None             None             None   \n",
       "1            0             None             None             None   \n",
       "2            0             None             None             None   \n",
       "3            0             None             None             None   \n",
       "4            0             None             None             None   \n",
       "\n",
       "  atributo_tela_1 atributo_tela_2 atributo_tela_3 atributo_estilo_1  \\\n",
       "0            None            None            None              None   \n",
       "1            None            None            None              None   \n",
       "2            None            None            None              None   \n",
       "3            None            None            None              None   \n",
       "4            None            None            None              None   \n",
       "\n",
       "  atributo_estilo_2 atributo_estilo_3  \n",
       "0              None              None  \n",
       "1              None              None  \n",
       "2              None              None  \n",
       "3              None              None  \n",
       "4              None              None  "
      ]
     },
     "execution_count": 47,
     "metadata": {},
     "output_type": "execute_result"
    }
   ],
   "source": [
    "df_atributos.head()"
   ]
  },
  {
   "cell_type": "markdown",
   "metadata": {},
   "source": [
    "##### Reemplazar los valores \"None\" de multiples columnas seleccionadas por 0"
   ]
  },
  {
   "cell_type": "code",
   "execution_count": 48,
   "metadata": {},
   "outputs": [
    {
     "name": "stderr",
     "output_type": "stream",
     "text": [
      "/Users/JuanLeyva/opt/anaconda3/lib/python3.7/site-packages/pandas/core/frame.py:3641: SettingWithCopyWarning: \n",
      "A value is trying to be set on a copy of a slice from a DataFrame.\n",
      "Try using .loc[row_indexer,col_indexer] = value instead\n",
      "\n",
      "See the caveats in the documentation: https://pandas.pydata.org/pandas-docs/stable/user_guide/indexing.html#returning-a-view-versus-a-copy\n",
      "  self[k1] = value[k2]\n"
     ]
    }
   ],
   "source": [
    "df_atributos[[\"atributo_color_1\",\"atributo_color_2\",\"atributo_color_3\",\"atributo_tela_1\",\"atributo_tela_2\",\"atributo_tela_3\",\"atributo_estilo_1\",\"atributo_estilo_2\",\"atributo_estilo_3\"]] = df_atributos[[\"atributo_color_1\",\"atributo_color_2\",\"atributo_color_3\",\"atributo_tela_1\",\"atributo_tela_2\",\"atributo_tela_3\",\"atributo_estilo_1\",\"atributo_estilo_2\",\"atributo_estilo_3\"]].fillna(0)\n"
   ]
  },
  {
   "cell_type": "markdown",
   "metadata": {},
   "source": [
    "##### Delimitar a solo pines que contengan al menos un atributo (color, tela y estilo) distinto a 0"
   ]
  },
  {
   "cell_type": "code",
   "execution_count": 49,
   "metadata": {},
   "outputs": [],
   "source": [
    "df_atributos = df_atributos.loc[(df_atributos.atributo_color_1 != 0) | (df_atributos.atributo_tela_1 != 0) | (df_atributos.atributo_estilo_1 != 0)].reset_index()\n"
   ]
  },
  {
   "cell_type": "markdown",
   "metadata": {},
   "source": [
    "##### Etiqueta de atributos (color, tela y estilo)"
   ]
  },
  {
   "cell_type": "code",
   "execution_count": 50,
   "metadata": {},
   "outputs": [],
   "source": [
    "df_atributos[\"color\"] = 0\n",
    "df_atributos[\"tela\"] = 0\n",
    "df_atributos[\"estilo\"] = 0"
   ]
  },
  {
   "cell_type": "markdown",
   "metadata": {},
   "source": [
    "##### Eliminar columna [index]"
   ]
  },
  {
   "cell_type": "code",
   "execution_count": 51,
   "metadata": {},
   "outputs": [],
   "source": [
    "df_atributos = df_atributos.drop(columns = [\"index\"])"
   ]
  },
  {
   "cell_type": "code",
   "execution_count": 52,
   "metadata": {},
   "outputs": [
    {
     "data": {
      "text/html": [
       "<div>\n",
       "<style scoped>\n",
       "    .dataframe tbody tr th:only-of-type {\n",
       "        vertical-align: middle;\n",
       "    }\n",
       "\n",
       "    .dataframe tbody tr th {\n",
       "        vertical-align: top;\n",
       "    }\n",
       "\n",
       "    .dataframe thead th {\n",
       "        text-align: right;\n",
       "    }\n",
       "</style>\n",
       "<table border=\"1\" class=\"dataframe\">\n",
       "  <thead>\n",
       "    <tr style=\"text-align: right;\">\n",
       "      <th></th>\n",
       "      <th>id</th>\n",
       "      <th>usuario_id</th>\n",
       "      <th>usuario</th>\n",
       "      <th>comentarios</th>\n",
       "      <th>creado</th>\n",
       "      <th>Num_seguidores</th>\n",
       "      <th>repin_count</th>\n",
       "      <th>atributo_color_1</th>\n",
       "      <th>atributo_color_2</th>\n",
       "      <th>atributo_color_3</th>\n",
       "      <th>atributo_tela_1</th>\n",
       "      <th>atributo_tela_2</th>\n",
       "      <th>atributo_tela_3</th>\n",
       "      <th>atributo_estilo_1</th>\n",
       "      <th>atributo_estilo_2</th>\n",
       "      <th>atributo_estilo_3</th>\n",
       "      <th>color</th>\n",
       "      <th>tela</th>\n",
       "      <th>estilo</th>\n",
       "    </tr>\n",
       "  </thead>\n",
       "  <tbody>\n",
       "    <tr>\n",
       "      <th>0</th>\n",
       "      <td>129689664247791019</td>\n",
       "      <td>129689801677865344</td>\n",
       "      <td>POPSUGARFitness</td>\n",
       "      <td>With full coverage and a shelf bra, you'll be ...</td>\n",
       "      <td>2016-03-01</td>\n",
       "      <td>748646</td>\n",
       "      <td>13</td>\n",
       "      <td>0</td>\n",
       "      <td>0</td>\n",
       "      <td>0</td>\n",
       "      <td>0</td>\n",
       "      <td>0</td>\n",
       "      <td>0</td>\n",
       "      <td>one piece</td>\n",
       "      <td>0</td>\n",
       "      <td>0</td>\n",
       "      <td>0</td>\n",
       "      <td>0</td>\n",
       "      <td>0</td>\n",
       "    </tr>\n",
       "    <tr>\n",
       "      <th>1</th>\n",
       "      <td>492651646718979160</td>\n",
       "      <td>465559817637892800</td>\n",
       "      <td>DressTrendscom</td>\n",
       "      <td>sport-coat-with-jeans-4</td>\n",
       "      <td>2016-03-01</td>\n",
       "      <td>2781</td>\n",
       "      <td>1</td>\n",
       "      <td>0</td>\n",
       "      <td>0</td>\n",
       "      <td>0</td>\n",
       "      <td>0</td>\n",
       "      <td>0</td>\n",
       "      <td>0</td>\n",
       "      <td>sport</td>\n",
       "      <td>0</td>\n",
       "      <td>0</td>\n",
       "      <td>0</td>\n",
       "      <td>0</td>\n",
       "      <td>0</td>\n",
       "    </tr>\n",
       "    <tr>\n",
       "      <th>2</th>\n",
       "      <td>223420831492840339</td>\n",
       "      <td>137289626049056160</td>\n",
       "      <td>target</td>\n",
       "      <td>Women's Push Up Cut-Out Bandeau One Piece - Xh...</td>\n",
       "      <td>2016-03-01</td>\n",
       "      <td>4287730</td>\n",
       "      <td>0</td>\n",
       "      <td>0</td>\n",
       "      <td>0</td>\n",
       "      <td>0</td>\n",
       "      <td>0</td>\n",
       "      <td>0</td>\n",
       "      <td>0</td>\n",
       "      <td>one piece</td>\n",
       "      <td>0</td>\n",
       "      <td>0</td>\n",
       "      <td>0</td>\n",
       "      <td>0</td>\n",
       "      <td>0</td>\n",
       "    </tr>\n",
       "    <tr>\n",
       "      <th>3</th>\n",
       "      <td>238339005257824737</td>\n",
       "      <td>238339142688181504</td>\n",
       "      <td>https://www.pinterest.com/acfr1968/</td>\n",
       "      <td>VIX Agatha embroidered voile maxi dress | Cut ...</td>\n",
       "      <td>2016-03-01</td>\n",
       "      <td>0</td>\n",
       "      <td>0</td>\n",
       "      <td>0</td>\n",
       "      <td>0</td>\n",
       "      <td>0</td>\n",
       "      <td>voile</td>\n",
       "      <td>voile</td>\n",
       "      <td>voile</td>\n",
       "      <td>0</td>\n",
       "      <td>0</td>\n",
       "      <td>0</td>\n",
       "      <td>0</td>\n",
       "      <td>0</td>\n",
       "      <td>0</td>\n",
       "    </tr>\n",
       "    <tr>\n",
       "      <th>4</th>\n",
       "      <td>43558321373797279</td>\n",
       "      <td>43558458804407040</td>\n",
       "      <td>https://www.pinterest.com/madvintage/</td>\n",
       "      <td>Super fun 1970s romper set! Mini romper top/dr...</td>\n",
       "      <td>2016-03-01</td>\n",
       "      <td>0</td>\n",
       "      <td>0</td>\n",
       "      <td>royal</td>\n",
       "      <td>blue</td>\n",
       "      <td>0</td>\n",
       "      <td>0</td>\n",
       "      <td>0</td>\n",
       "      <td>0</td>\n",
       "      <td>0</td>\n",
       "      <td>0</td>\n",
       "      <td>0</td>\n",
       "      <td>0</td>\n",
       "      <td>0</td>\n",
       "      <td>0</td>\n",
       "    </tr>\n",
       "    <tr>\n",
       "      <th>...</th>\n",
       "      <td>...</td>\n",
       "      <td>...</td>\n",
       "      <td>...</td>\n",
       "      <td>...</td>\n",
       "      <td>...</td>\n",
       "      <td>...</td>\n",
       "      <td>...</td>\n",
       "      <td>...</td>\n",
       "      <td>...</td>\n",
       "      <td>...</td>\n",
       "      <td>...</td>\n",
       "      <td>...</td>\n",
       "      <td>...</td>\n",
       "      <td>...</td>\n",
       "      <td>...</td>\n",
       "      <td>...</td>\n",
       "      <td>...</td>\n",
       "      <td>...</td>\n",
       "      <td>...</td>\n",
       "    </tr>\n",
       "    <tr>\n",
       "      <th>14509</th>\n",
       "      <td>842313936552154067</td>\n",
       "      <td>560416884789374464</td>\n",
       "      <td>rockindocks</td>\n",
       "      <td>Material:PolyesterStyle:FashionSleeve Length(c...</td>\n",
       "      <td>2020-09-29</td>\n",
       "      <td>8149</td>\n",
       "      <td>0</td>\n",
       "      <td>0</td>\n",
       "      <td>0</td>\n",
       "      <td>0</td>\n",
       "      <td>polyester</td>\n",
       "      <td>poly</td>\n",
       "      <td>polyester</td>\n",
       "      <td>normal</td>\n",
       "      <td>normal</td>\n",
       "      <td>0</td>\n",
       "      <td>0</td>\n",
       "      <td>0</td>\n",
       "      <td>0</td>\n",
       "    </tr>\n",
       "    <tr>\n",
       "      <th>14510</th>\n",
       "      <td>704602304195741431</td>\n",
       "      <td>699113679563577984</td>\n",
       "      <td>ledikacani</td>\n",
       "      <td>GONNA DI TULLE AUTUNNO INVERNO 2018/2019</td>\n",
       "      <td>2020-09-29</td>\n",
       "      <td>61</td>\n",
       "      <td>0</td>\n",
       "      <td>0</td>\n",
       "      <td>0</td>\n",
       "      <td>0</td>\n",
       "      <td>tul</td>\n",
       "      <td>tul</td>\n",
       "      <td>0</td>\n",
       "      <td>0</td>\n",
       "      <td>0</td>\n",
       "      <td>0</td>\n",
       "      <td>0</td>\n",
       "      <td>0</td>\n",
       "      <td>0</td>\n",
       "    </tr>\n",
       "    <tr>\n",
       "      <th>14511</th>\n",
       "      <td>56224695337645650</td>\n",
       "      <td>23432997969621924</td>\n",
       "      <td>theposhmarkapp</td>\n",
       "      <td>New acacia orchid crochet panama bikini top sw...</td>\n",
       "      <td>2020-09-30</td>\n",
       "      <td>683462</td>\n",
       "      <td>0</td>\n",
       "      <td>pink</td>\n",
       "      <td>purple</td>\n",
       "      <td>0</td>\n",
       "      <td>0</td>\n",
       "      <td>0</td>\n",
       "      <td>0</td>\n",
       "      <td>0</td>\n",
       "      <td>0</td>\n",
       "      <td>0</td>\n",
       "      <td>0</td>\n",
       "      <td>0</td>\n",
       "      <td>0</td>\n",
       "    </tr>\n",
       "    <tr>\n",
       "      <th>14512</th>\n",
       "      <td>98094098123977732</td>\n",
       "      <td>121104814888194720</td>\n",
       "      <td>seokingz</td>\n",
       "      <td>Sexy V-neck One-piece Swimsuit Women high wais...</td>\n",
       "      <td>2020-09-30</td>\n",
       "      <td>10785</td>\n",
       "      <td>3</td>\n",
       "      <td>black</td>\n",
       "      <td>white</td>\n",
       "      <td>black</td>\n",
       "      <td>0</td>\n",
       "      <td>0</td>\n",
       "      <td>0</td>\n",
       "      <td>one piece</td>\n",
       "      <td>thong</td>\n",
       "      <td>thong</td>\n",
       "      <td>0</td>\n",
       "      <td>0</td>\n",
       "      <td>0</td>\n",
       "    </tr>\n",
       "    <tr>\n",
       "      <th>14513</th>\n",
       "      <td>52706258127631437</td>\n",
       "      <td>52706395547501048</td>\n",
       "      <td>weddingwire</td>\n",
       "      <td>33 White Jumpsuits for Weddings, Elopements &amp; ...</td>\n",
       "      <td>2020-09-30</td>\n",
       "      <td>526393</td>\n",
       "      <td>555</td>\n",
       "      <td>white</td>\n",
       "      <td>white</td>\n",
       "      <td>white</td>\n",
       "      <td>0</td>\n",
       "      <td>0</td>\n",
       "      <td>0</td>\n",
       "      <td>0</td>\n",
       "      <td>0</td>\n",
       "      <td>0</td>\n",
       "      <td>0</td>\n",
       "      <td>0</td>\n",
       "      <td>0</td>\n",
       "    </tr>\n",
       "  </tbody>\n",
       "</table>\n",
       "<p>14514 rows × 19 columns</p>\n",
       "</div>"
      ],
      "text/plain": [
       "                       id          usuario_id  \\\n",
       "0      129689664247791019  129689801677865344   \n",
       "1      492651646718979160  465559817637892800   \n",
       "2      223420831492840339  137289626049056160   \n",
       "3      238339005257824737  238339142688181504   \n",
       "4       43558321373797279   43558458804407040   \n",
       "...                   ...                 ...   \n",
       "14509  842313936552154067  560416884789374464   \n",
       "14510  704602304195741431  699113679563577984   \n",
       "14511   56224695337645650   23432997969621924   \n",
       "14512   98094098123977732  121104814888194720   \n",
       "14513   52706258127631437   52706395547501048   \n",
       "\n",
       "                                     usuario  \\\n",
       "0                            POPSUGARFitness   \n",
       "1                             DressTrendscom   \n",
       "2                                     target   \n",
       "3        https://www.pinterest.com/acfr1968/   \n",
       "4      https://www.pinterest.com/madvintage/   \n",
       "...                                      ...   \n",
       "14509                            rockindocks   \n",
       "14510                             ledikacani   \n",
       "14511                         theposhmarkapp   \n",
       "14512                               seokingz   \n",
       "14513                            weddingwire   \n",
       "\n",
       "                                             comentarios     creado  \\\n",
       "0      With full coverage and a shelf bra, you'll be ... 2016-03-01   \n",
       "1                                sport-coat-with-jeans-4 2016-03-01   \n",
       "2      Women's Push Up Cut-Out Bandeau One Piece - Xh... 2016-03-01   \n",
       "3      VIX Agatha embroidered voile maxi dress | Cut ... 2016-03-01   \n",
       "4      Super fun 1970s romper set! Mini romper top/dr... 2016-03-01   \n",
       "...                                                  ...        ...   \n",
       "14509  Material:PolyesterStyle:FashionSleeve Length(c... 2020-09-29   \n",
       "14510           GONNA DI TULLE AUTUNNO INVERNO 2018/2019 2020-09-29   \n",
       "14511  New acacia orchid crochet panama bikini top sw... 2020-09-30   \n",
       "14512  Sexy V-neck One-piece Swimsuit Women high wais... 2020-09-30   \n",
       "14513  33 White Jumpsuits for Weddings, Elopements & ... 2020-09-30   \n",
       "\n",
       "       Num_seguidores  repin_count atributo_color_1 atributo_color_2  \\\n",
       "0              748646           13                0                0   \n",
       "1                2781            1                0                0   \n",
       "2             4287730            0                0                0   \n",
       "3                   0            0                0                0   \n",
       "4                   0            0            royal             blue   \n",
       "...               ...          ...              ...              ...   \n",
       "14509            8149            0                0                0   \n",
       "14510              61            0                0                0   \n",
       "14511          683462            0             pink           purple   \n",
       "14512           10785            3            black            white   \n",
       "14513          526393          555            white            white   \n",
       "\n",
       "      atributo_color_3 atributo_tela_1 atributo_tela_2 atributo_tela_3  \\\n",
       "0                    0               0               0               0   \n",
       "1                    0               0               0               0   \n",
       "2                    0               0               0               0   \n",
       "3                    0           voile           voile           voile   \n",
       "4                    0               0               0               0   \n",
       "...                ...             ...             ...             ...   \n",
       "14509                0       polyester            poly       polyester   \n",
       "14510                0             tul             tul               0   \n",
       "14511                0               0               0               0   \n",
       "14512            black               0               0               0   \n",
       "14513            white               0               0               0   \n",
       "\n",
       "      atributo_estilo_1 atributo_estilo_2 atributo_estilo_3  color  tela  \\\n",
       "0             one piece                 0                 0      0     0   \n",
       "1                 sport                 0                 0      0     0   \n",
       "2             one piece                 0                 0      0     0   \n",
       "3                     0                 0                 0      0     0   \n",
       "4                     0                 0                 0      0     0   \n",
       "...                 ...               ...               ...    ...   ...   \n",
       "14509            normal            normal                 0      0     0   \n",
       "14510                 0                 0                 0      0     0   \n",
       "14511                 0                 0                 0      0     0   \n",
       "14512         one piece             thong             thong      0     0   \n",
       "14513                 0                 0                 0      0     0   \n",
       "\n",
       "       estilo  \n",
       "0           0  \n",
       "1           0  \n",
       "2           0  \n",
       "3           0  \n",
       "4           0  \n",
       "...       ...  \n",
       "14509       0  \n",
       "14510       0  \n",
       "14511       0  \n",
       "14512       0  \n",
       "14513       0  \n",
       "\n",
       "[14514 rows x 19 columns]"
      ]
     },
     "execution_count": 52,
     "metadata": {},
     "output_type": "execute_result"
    }
   ],
   "source": [
    "df_atributos"
   ]
  },
  {
   "cell_type": "markdown",
   "metadata": {},
   "source": [
    "##### Exportar dataframe a archivo csv"
   ]
  },
  {
   "cell_type": "code",
   "execution_count": 53,
   "metadata": {},
   "outputs": [],
   "source": [
    "df_atributos.to_csv('df_atributos.csv')"
   ]
  },
  {
   "cell_type": "markdown",
   "metadata": {},
   "source": [
    "### Dataframe con atributos etiquetados por su valor en diccionario"
   ]
  },
  {
   "cell_type": "code",
   "execution_count": 54,
   "metadata": {},
   "outputs": [],
   "source": [
    "df_atributos_tag = df[[\"id\",\"usuario_id\",\"usuario\",\"creado\",\"Num_seguidores\",\"repin_count\",\"atributo_color_1\",\"atributo_color_2\",\"atributo_color_3\",\"atributo_tela_1\",\"atributo_tela_2\",\"atributo_tela_3\",\"atributo_estilo_1\",\"atributo_estilo_2\",\"atributo_estilo_3\"]]\n"
   ]
  },
  {
   "cell_type": "code",
   "execution_count": 55,
   "metadata": {},
   "outputs": [
    {
     "data": {
      "text/html": [
       "<div>\n",
       "<style scoped>\n",
       "    .dataframe tbody tr th:only-of-type {\n",
       "        vertical-align: middle;\n",
       "    }\n",
       "\n",
       "    .dataframe tbody tr th {\n",
       "        vertical-align: top;\n",
       "    }\n",
       "\n",
       "    .dataframe thead th {\n",
       "        text-align: right;\n",
       "    }\n",
       "</style>\n",
       "<table border=\"1\" class=\"dataframe\">\n",
       "  <thead>\n",
       "    <tr style=\"text-align: right;\">\n",
       "      <th></th>\n",
       "      <th>id</th>\n",
       "      <th>usuario_id</th>\n",
       "      <th>usuario</th>\n",
       "      <th>creado</th>\n",
       "      <th>Num_seguidores</th>\n",
       "      <th>repin_count</th>\n",
       "      <th>atributo_color_1</th>\n",
       "      <th>atributo_color_2</th>\n",
       "      <th>atributo_color_3</th>\n",
       "      <th>atributo_tela_1</th>\n",
       "      <th>atributo_tela_2</th>\n",
       "      <th>atributo_tela_3</th>\n",
       "      <th>atributo_estilo_1</th>\n",
       "      <th>atributo_estilo_2</th>\n",
       "      <th>atributo_estilo_3</th>\n",
       "    </tr>\n",
       "  </thead>\n",
       "  <tbody>\n",
       "    <tr>\n",
       "      <th>0</th>\n",
       "      <td>313140980321868905</td>\n",
       "      <td>259801609662367008</td>\n",
       "      <td>urbanoutfitters</td>\n",
       "      <td>2016-03-01</td>\n",
       "      <td>3059122</td>\n",
       "      <td>1</td>\n",
       "      <td>None</td>\n",
       "      <td>None</td>\n",
       "      <td>None</td>\n",
       "      <td>None</td>\n",
       "      <td>None</td>\n",
       "      <td>None</td>\n",
       "      <td>None</td>\n",
       "      <td>None</td>\n",
       "      <td>None</td>\n",
       "    </tr>\n",
       "    <tr>\n",
       "      <th>1</th>\n",
       "      <td>70791025371281551</td>\n",
       "      <td>259801609662367008</td>\n",
       "      <td>urbanoutfitters</td>\n",
       "      <td>2016-03-01</td>\n",
       "      <td>3059125</td>\n",
       "      <td>0</td>\n",
       "      <td>None</td>\n",
       "      <td>None</td>\n",
       "      <td>None</td>\n",
       "      <td>None</td>\n",
       "      <td>None</td>\n",
       "      <td>None</td>\n",
       "      <td>None</td>\n",
       "      <td>None</td>\n",
       "      <td>None</td>\n",
       "    </tr>\n",
       "    <tr>\n",
       "      <th>2</th>\n",
       "      <td>465700417698566187</td>\n",
       "      <td>45176939920493432</td>\n",
       "      <td>nymag</td>\n",
       "      <td>2016-03-01</td>\n",
       "      <td>180274</td>\n",
       "      <td>0</td>\n",
       "      <td>None</td>\n",
       "      <td>None</td>\n",
       "      <td>None</td>\n",
       "      <td>None</td>\n",
       "      <td>None</td>\n",
       "      <td>None</td>\n",
       "      <td>None</td>\n",
       "      <td>None</td>\n",
       "      <td>None</td>\n",
       "    </tr>\n",
       "    <tr>\n",
       "      <th>3</th>\n",
       "      <td>407857309985061022</td>\n",
       "      <td>326933391607916864</td>\n",
       "      <td>weloveboho</td>\n",
       "      <td>2016-03-01</td>\n",
       "      <td>201442</td>\n",
       "      <td>0</td>\n",
       "      <td>None</td>\n",
       "      <td>None</td>\n",
       "      <td>None</td>\n",
       "      <td>None</td>\n",
       "      <td>None</td>\n",
       "      <td>None</td>\n",
       "      <td>None</td>\n",
       "      <td>None</td>\n",
       "      <td>None</td>\n",
       "    </tr>\n",
       "    <tr>\n",
       "      <th>4</th>\n",
       "      <td>307511480788033140</td>\n",
       "      <td>24277422899724312</td>\n",
       "      <td>anthropologie</td>\n",
       "      <td>2016-03-01</td>\n",
       "      <td>1605335</td>\n",
       "      <td>0</td>\n",
       "      <td>None</td>\n",
       "      <td>None</td>\n",
       "      <td>None</td>\n",
       "      <td>None</td>\n",
       "      <td>None</td>\n",
       "      <td>None</td>\n",
       "      <td>None</td>\n",
       "      <td>None</td>\n",
       "      <td>None</td>\n",
       "    </tr>\n",
       "  </tbody>\n",
       "</table>\n",
       "</div>"
      ],
      "text/plain": [
       "                   id          usuario_id          usuario     creado  \\\n",
       "0  313140980321868905  259801609662367008  urbanoutfitters 2016-03-01   \n",
       "1   70791025371281551  259801609662367008  urbanoutfitters 2016-03-01   \n",
       "2  465700417698566187   45176939920493432            nymag 2016-03-01   \n",
       "3  407857309985061022  326933391607916864       weloveboho 2016-03-01   \n",
       "4  307511480788033140   24277422899724312    anthropologie 2016-03-01   \n",
       "\n",
       "   Num_seguidores  repin_count atributo_color_1 atributo_color_2  \\\n",
       "0         3059122            1             None             None   \n",
       "1         3059125            0             None             None   \n",
       "2          180274            0             None             None   \n",
       "3          201442            0             None             None   \n",
       "4         1605335            0             None             None   \n",
       "\n",
       "  atributo_color_3 atributo_tela_1 atributo_tela_2 atributo_tela_3  \\\n",
       "0             None            None            None            None   \n",
       "1             None            None            None            None   \n",
       "2             None            None            None            None   \n",
       "3             None            None            None            None   \n",
       "4             None            None            None            None   \n",
       "\n",
       "  atributo_estilo_1 atributo_estilo_2 atributo_estilo_3  \n",
       "0              None              None              None  \n",
       "1              None              None              None  \n",
       "2              None              None              None  \n",
       "3              None              None              None  \n",
       "4              None              None              None  "
      ]
     },
     "execution_count": 55,
     "metadata": {},
     "output_type": "execute_result"
    }
   ],
   "source": [
    "df_atributos_tag.head()"
   ]
  },
  {
   "cell_type": "markdown",
   "metadata": {},
   "source": [
    "#### Dictionary comprenhension (color)"
   ]
  },
  {
   "cell_type": "markdown",
   "metadata": {},
   "source": [
    "Insertar valor \"None\" en lista color"
   ]
  },
  {
   "cell_type": "code",
   "execution_count": 56,
   "metadata": {},
   "outputs": [],
   "source": [
    "color.insert(0, None)"
   ]
  },
  {
   "cell_type": "code",
   "execution_count": 57,
   "metadata": {},
   "outputs": [],
   "source": [
    "color_dict = {k: v for v, k in enumerate(color)}"
   ]
  },
  {
   "cell_type": "markdown",
   "metadata": {},
   "source": [
    "Reemplazar elemento de atributo(color) en multiples columnas seleccionadas por su valor en diccionario"
   ]
  },
  {
   "cell_type": "code",
   "execution_count": 58,
   "metadata": {},
   "outputs": [],
   "source": [
    "df_atributos_tag = df_atributos_tag.replace({\"atributo_color_1\":color_dict,\"atributo_color_2\":color_dict,\"atributo_color_3\":color_dict})\n"
   ]
  },
  {
   "cell_type": "markdown",
   "metadata": {},
   "source": [
    "#### Dictionary comprenhension (tela)"
   ]
  },
  {
   "cell_type": "markdown",
   "metadata": {},
   "source": [
    "Insertar valor \"None\" en lista tela"
   ]
  },
  {
   "cell_type": "code",
   "execution_count": 59,
   "metadata": {},
   "outputs": [],
   "source": [
    "tela.insert(0, None)"
   ]
  },
  {
   "cell_type": "code",
   "execution_count": 60,
   "metadata": {},
   "outputs": [],
   "source": [
    "tela_dict = {k: v for v, k in enumerate(tela)}"
   ]
  },
  {
   "cell_type": "markdown",
   "metadata": {},
   "source": [
    "Reemplazar elemento de atributo(tela) de multiples columnas seleccionadas por su valor en diccionario"
   ]
  },
  {
   "cell_type": "code",
   "execution_count": 61,
   "metadata": {},
   "outputs": [],
   "source": [
    "df_atributos_tag = df_atributos_tag.replace({\"atributo_tela_1\":tela_dict,\"atributo_tela_2\":tela_dict,\"atributo_tela_3\":tela_dict})\n"
   ]
  },
  {
   "cell_type": "markdown",
   "metadata": {},
   "source": [
    "#### Dictionary comprenhension (estilo)"
   ]
  },
  {
   "cell_type": "markdown",
   "metadata": {},
   "source": [
    "Insertar valor \"None\" en lista estilo"
   ]
  },
  {
   "cell_type": "code",
   "execution_count": 62,
   "metadata": {},
   "outputs": [],
   "source": [
    "estilo.insert(0, None)"
   ]
  },
  {
   "cell_type": "code",
   "execution_count": 63,
   "metadata": {},
   "outputs": [],
   "source": [
    "estilo_dict = {k: v for v, k in enumerate(estilo)}"
   ]
  },
  {
   "cell_type": "markdown",
   "metadata": {},
   "source": [
    "Reemplazar elemento de atributo(estilo) en multiples columnas seleccionadas por su valor en diccionario"
   ]
  },
  {
   "cell_type": "code",
   "execution_count": 64,
   "metadata": {},
   "outputs": [],
   "source": [
    "df_atributos_tag = df_atributos_tag.replace({\"atributo_estilo_1\":estilo_dict,\"atributo_estilo_2\":estilo_dict,\"atributo_estilo_3\":estilo_dict})\n"
   ]
  },
  {
   "cell_type": "markdown",
   "metadata": {},
   "source": [
    "#### Dataframe con pines que tienen detectan al menos un atributo - dimension (15403 filas, 15 columnas)"
   ]
  },
  {
   "cell_type": "markdown",
   "metadata": {},
   "source": [
    "##### Delimitar a solo pines que contengan al menos un atributo (color, tela y estilo) distinto a 0"
   ]
  },
  {
   "cell_type": "code",
   "execution_count": 65,
   "metadata": {},
   "outputs": [],
   "source": [
    "df_atributos_tag = df_atributos_tag[(df_atributos_tag.atributo_color_1 != 0) | (df_atributos_tag.atributo_tela_1 != 0) | (df_atributos_tag.atributo_estilo_1 != 0)].reset_index()\n"
   ]
  },
  {
   "cell_type": "markdown",
   "metadata": {},
   "source": [
    "##### Eliminar columna [index]"
   ]
  },
  {
   "cell_type": "code",
   "execution_count": 66,
   "metadata": {},
   "outputs": [],
   "source": [
    "df_atributos_tag = df_atributos_tag.drop(columns = [\"index\"])"
   ]
  },
  {
   "cell_type": "code",
   "execution_count": 67,
   "metadata": {},
   "outputs": [
    {
     "data": {
      "text/html": [
       "<div>\n",
       "<style scoped>\n",
       "    .dataframe tbody tr th:only-of-type {\n",
       "        vertical-align: middle;\n",
       "    }\n",
       "\n",
       "    .dataframe tbody tr th {\n",
       "        vertical-align: top;\n",
       "    }\n",
       "\n",
       "    .dataframe thead th {\n",
       "        text-align: right;\n",
       "    }\n",
       "</style>\n",
       "<table border=\"1\" class=\"dataframe\">\n",
       "  <thead>\n",
       "    <tr style=\"text-align: right;\">\n",
       "      <th></th>\n",
       "      <th>id</th>\n",
       "      <th>usuario_id</th>\n",
       "      <th>usuario</th>\n",
       "      <th>creado</th>\n",
       "      <th>Num_seguidores</th>\n",
       "      <th>repin_count</th>\n",
       "      <th>atributo_color_1</th>\n",
       "      <th>atributo_color_2</th>\n",
       "      <th>atributo_color_3</th>\n",
       "      <th>atributo_tela_1</th>\n",
       "      <th>atributo_tela_2</th>\n",
       "      <th>atributo_tela_3</th>\n",
       "      <th>atributo_estilo_1</th>\n",
       "      <th>atributo_estilo_2</th>\n",
       "      <th>atributo_estilo_3</th>\n",
       "    </tr>\n",
       "  </thead>\n",
       "  <tbody>\n",
       "    <tr>\n",
       "      <th>0</th>\n",
       "      <td>129689664247791019</td>\n",
       "      <td>129689801677865344</td>\n",
       "      <td>POPSUGARFitness</td>\n",
       "      <td>2016-03-01</td>\n",
       "      <td>748646</td>\n",
       "      <td>13</td>\n",
       "      <td>0</td>\n",
       "      <td>0</td>\n",
       "      <td>0</td>\n",
       "      <td>0</td>\n",
       "      <td>0</td>\n",
       "      <td>0</td>\n",
       "      <td>5</td>\n",
       "      <td>0</td>\n",
       "      <td>0</td>\n",
       "    </tr>\n",
       "    <tr>\n",
       "      <th>1</th>\n",
       "      <td>492651646718979160</td>\n",
       "      <td>465559817637892800</td>\n",
       "      <td>DressTrendscom</td>\n",
       "      <td>2016-03-01</td>\n",
       "      <td>2781</td>\n",
       "      <td>1</td>\n",
       "      <td>0</td>\n",
       "      <td>0</td>\n",
       "      <td>0</td>\n",
       "      <td>0</td>\n",
       "      <td>0</td>\n",
       "      <td>0</td>\n",
       "      <td>2</td>\n",
       "      <td>0</td>\n",
       "      <td>0</td>\n",
       "    </tr>\n",
       "    <tr>\n",
       "      <th>2</th>\n",
       "      <td>223420831492840339</td>\n",
       "      <td>137289626049056160</td>\n",
       "      <td>target</td>\n",
       "      <td>2016-03-01</td>\n",
       "      <td>4287730</td>\n",
       "      <td>0</td>\n",
       "      <td>0</td>\n",
       "      <td>0</td>\n",
       "      <td>0</td>\n",
       "      <td>0</td>\n",
       "      <td>0</td>\n",
       "      <td>0</td>\n",
       "      <td>5</td>\n",
       "      <td>0</td>\n",
       "      <td>0</td>\n",
       "    </tr>\n",
       "    <tr>\n",
       "      <th>3</th>\n",
       "      <td>238339005257824737</td>\n",
       "      <td>238339142688181504</td>\n",
       "      <td>https://www.pinterest.com/acfr1968/</td>\n",
       "      <td>2016-03-01</td>\n",
       "      <td>0</td>\n",
       "      <td>0</td>\n",
       "      <td>0</td>\n",
       "      <td>0</td>\n",
       "      <td>0</td>\n",
       "      <td>21</td>\n",
       "      <td>21</td>\n",
       "      <td>21</td>\n",
       "      <td>0</td>\n",
       "      <td>0</td>\n",
       "      <td>0</td>\n",
       "    </tr>\n",
       "    <tr>\n",
       "      <th>4</th>\n",
       "      <td>43558321373797279</td>\n",
       "      <td>43558458804407040</td>\n",
       "      <td>https://www.pinterest.com/madvintage/</td>\n",
       "      <td>2016-03-01</td>\n",
       "      <td>0</td>\n",
       "      <td>0</td>\n",
       "      <td>55</td>\n",
       "      <td>12</td>\n",
       "      <td>0</td>\n",
       "      <td>0</td>\n",
       "      <td>0</td>\n",
       "      <td>0</td>\n",
       "      <td>0</td>\n",
       "      <td>0</td>\n",
       "      <td>0</td>\n",
       "    </tr>\n",
       "    <tr>\n",
       "      <th>...</th>\n",
       "      <td>...</td>\n",
       "      <td>...</td>\n",
       "      <td>...</td>\n",
       "      <td>...</td>\n",
       "      <td>...</td>\n",
       "      <td>...</td>\n",
       "      <td>...</td>\n",
       "      <td>...</td>\n",
       "      <td>...</td>\n",
       "      <td>...</td>\n",
       "      <td>...</td>\n",
       "      <td>...</td>\n",
       "      <td>...</td>\n",
       "      <td>...</td>\n",
       "      <td>...</td>\n",
       "    </tr>\n",
       "    <tr>\n",
       "      <th>14509</th>\n",
       "      <td>842313936552154067</td>\n",
       "      <td>560416884789374464</td>\n",
       "      <td>rockindocks</td>\n",
       "      <td>2020-09-29</td>\n",
       "      <td>8149</td>\n",
       "      <td>0</td>\n",
       "      <td>0</td>\n",
       "      <td>0</td>\n",
       "      <td>0</td>\n",
       "      <td>3</td>\n",
       "      <td>26</td>\n",
       "      <td>3</td>\n",
       "      <td>9</td>\n",
       "      <td>9</td>\n",
       "      <td>0</td>\n",
       "    </tr>\n",
       "    <tr>\n",
       "      <th>14510</th>\n",
       "      <td>704602304195741431</td>\n",
       "      <td>699113679563577984</td>\n",
       "      <td>ledikacani</td>\n",
       "      <td>2020-09-29</td>\n",
       "      <td>61</td>\n",
       "      <td>0</td>\n",
       "      <td>0</td>\n",
       "      <td>0</td>\n",
       "      <td>0</td>\n",
       "      <td>19</td>\n",
       "      <td>19</td>\n",
       "      <td>0</td>\n",
       "      <td>0</td>\n",
       "      <td>0</td>\n",
       "      <td>0</td>\n",
       "    </tr>\n",
       "    <tr>\n",
       "      <th>14511</th>\n",
       "      <td>56224695337645650</td>\n",
       "      <td>23432997969621924</td>\n",
       "      <td>theposhmarkapp</td>\n",
       "      <td>2020-09-30</td>\n",
       "      <td>683462</td>\n",
       "      <td>0</td>\n",
       "      <td>10</td>\n",
       "      <td>43</td>\n",
       "      <td>0</td>\n",
       "      <td>0</td>\n",
       "      <td>0</td>\n",
       "      <td>0</td>\n",
       "      <td>0</td>\n",
       "      <td>0</td>\n",
       "      <td>0</td>\n",
       "    </tr>\n",
       "    <tr>\n",
       "      <th>14512</th>\n",
       "      <td>98094098123977732</td>\n",
       "      <td>121104814888194720</td>\n",
       "      <td>seokingz</td>\n",
       "      <td>2020-09-30</td>\n",
       "      <td>10785</td>\n",
       "      <td>3</td>\n",
       "      <td>4</td>\n",
       "      <td>31</td>\n",
       "      <td>4</td>\n",
       "      <td>0</td>\n",
       "      <td>0</td>\n",
       "      <td>0</td>\n",
       "      <td>5</td>\n",
       "      <td>10</td>\n",
       "      <td>10</td>\n",
       "    </tr>\n",
       "    <tr>\n",
       "      <th>14513</th>\n",
       "      <td>52706258127631437</td>\n",
       "      <td>52706395547501048</td>\n",
       "      <td>weddingwire</td>\n",
       "      <td>2020-09-30</td>\n",
       "      <td>526393</td>\n",
       "      <td>555</td>\n",
       "      <td>31</td>\n",
       "      <td>31</td>\n",
       "      <td>31</td>\n",
       "      <td>0</td>\n",
       "      <td>0</td>\n",
       "      <td>0</td>\n",
       "      <td>0</td>\n",
       "      <td>0</td>\n",
       "      <td>0</td>\n",
       "    </tr>\n",
       "  </tbody>\n",
       "</table>\n",
       "<p>14514 rows × 15 columns</p>\n",
       "</div>"
      ],
      "text/plain": [
       "                       id          usuario_id  \\\n",
       "0      129689664247791019  129689801677865344   \n",
       "1      492651646718979160  465559817637892800   \n",
       "2      223420831492840339  137289626049056160   \n",
       "3      238339005257824737  238339142688181504   \n",
       "4       43558321373797279   43558458804407040   \n",
       "...                   ...                 ...   \n",
       "14509  842313936552154067  560416884789374464   \n",
       "14510  704602304195741431  699113679563577984   \n",
       "14511   56224695337645650   23432997969621924   \n",
       "14512   98094098123977732  121104814888194720   \n",
       "14513   52706258127631437   52706395547501048   \n",
       "\n",
       "                                     usuario     creado  Num_seguidores  \\\n",
       "0                            POPSUGARFitness 2016-03-01          748646   \n",
       "1                             DressTrendscom 2016-03-01            2781   \n",
       "2                                     target 2016-03-01         4287730   \n",
       "3        https://www.pinterest.com/acfr1968/ 2016-03-01               0   \n",
       "4      https://www.pinterest.com/madvintage/ 2016-03-01               0   \n",
       "...                                      ...        ...             ...   \n",
       "14509                            rockindocks 2020-09-29            8149   \n",
       "14510                             ledikacani 2020-09-29              61   \n",
       "14511                         theposhmarkapp 2020-09-30          683462   \n",
       "14512                               seokingz 2020-09-30           10785   \n",
       "14513                            weddingwire 2020-09-30          526393   \n",
       "\n",
       "       repin_count  atributo_color_1  atributo_color_2  atributo_color_3  \\\n",
       "0               13                 0                 0                 0   \n",
       "1                1                 0                 0                 0   \n",
       "2                0                 0                 0                 0   \n",
       "3                0                 0                 0                 0   \n",
       "4                0                55                12                 0   \n",
       "...            ...               ...               ...               ...   \n",
       "14509            0                 0                 0                 0   \n",
       "14510            0                 0                 0                 0   \n",
       "14511            0                10                43                 0   \n",
       "14512            3                 4                31                 4   \n",
       "14513          555                31                31                31   \n",
       "\n",
       "       atributo_tela_1  atributo_tela_2  atributo_tela_3  atributo_estilo_1  \\\n",
       "0                    0                0                0                  5   \n",
       "1                    0                0                0                  2   \n",
       "2                    0                0                0                  5   \n",
       "3                   21               21               21                  0   \n",
       "4                    0                0                0                  0   \n",
       "...                ...              ...              ...                ...   \n",
       "14509                3               26                3                  9   \n",
       "14510               19               19                0                  0   \n",
       "14511                0                0                0                  0   \n",
       "14512                0                0                0                  5   \n",
       "14513                0                0                0                  0   \n",
       "\n",
       "       atributo_estilo_2  atributo_estilo_3  \n",
       "0                      0                  0  \n",
       "1                      0                  0  \n",
       "2                      0                  0  \n",
       "3                      0                  0  \n",
       "4                      0                  0  \n",
       "...                  ...                ...  \n",
       "14509                  9                  0  \n",
       "14510                  0                  0  \n",
       "14511                  0                  0  \n",
       "14512                 10                 10  \n",
       "14513                  0                  0  \n",
       "\n",
       "[14514 rows x 15 columns]"
      ]
     },
     "execution_count": 67,
     "metadata": {},
     "output_type": "execute_result"
    }
   ],
   "source": [
    "df_atributos_tag"
   ]
  },
  {
   "cell_type": "markdown",
   "metadata": {},
   "source": [
    "##### Exportar dataframe a archivo csv"
   ]
  },
  {
   "cell_type": "code",
   "execution_count": 68,
   "metadata": {},
   "outputs": [],
   "source": [
    "df_atributos_tag.to_csv('df_atributos_tag.csv')"
   ]
  },
  {
   "cell_type": "markdown",
   "metadata": {},
   "source": [
    "## Dataframe con atributos etiquetados de forma binaria"
   ]
  },
  {
   "cell_type": "code",
   "execution_count": 77,
   "metadata": {},
   "outputs": [],
   "source": [
    "df_atributos_bin = df[[\"id\",\"usuario_id\",\"creado\",\"Num_seguidores\",\"atributo_color_1\",\"atributo_color_2\",\"atributo_color_3\",\"atributo_tela_1\",\"atributo_tela_2\",\"atributo_tela_3\",\"atributo_estilo_1\",\"atributo_estilo_2\",\"atributo_estilo_3\"]]\n",
    "\n"
   ]
  },
  {
   "cell_type": "code",
   "execution_count": 78,
   "metadata": {},
   "outputs": [
    {
     "data": {
      "text/html": [
       "<div>\n",
       "<style scoped>\n",
       "    .dataframe tbody tr th:only-of-type {\n",
       "        vertical-align: middle;\n",
       "    }\n",
       "\n",
       "    .dataframe tbody tr th {\n",
       "        vertical-align: top;\n",
       "    }\n",
       "\n",
       "    .dataframe thead th {\n",
       "        text-align: right;\n",
       "    }\n",
       "</style>\n",
       "<table border=\"1\" class=\"dataframe\">\n",
       "  <thead>\n",
       "    <tr style=\"text-align: right;\">\n",
       "      <th></th>\n",
       "      <th>id</th>\n",
       "      <th>usuario_id</th>\n",
       "      <th>creado</th>\n",
       "      <th>Num_seguidores</th>\n",
       "      <th>atributo_color_1</th>\n",
       "      <th>atributo_color_2</th>\n",
       "      <th>atributo_color_3</th>\n",
       "      <th>atributo_tela_1</th>\n",
       "      <th>atributo_tela_2</th>\n",
       "      <th>atributo_tela_3</th>\n",
       "      <th>atributo_estilo_1</th>\n",
       "      <th>atributo_estilo_2</th>\n",
       "      <th>atributo_estilo_3</th>\n",
       "    </tr>\n",
       "  </thead>\n",
       "  <tbody>\n",
       "    <tr>\n",
       "      <th>0</th>\n",
       "      <td>313140980321868905</td>\n",
       "      <td>259801609662367008</td>\n",
       "      <td>2016-03-01</td>\n",
       "      <td>3059122</td>\n",
       "      <td>None</td>\n",
       "      <td>None</td>\n",
       "      <td>None</td>\n",
       "      <td>None</td>\n",
       "      <td>None</td>\n",
       "      <td>None</td>\n",
       "      <td>None</td>\n",
       "      <td>None</td>\n",
       "      <td>None</td>\n",
       "    </tr>\n",
       "    <tr>\n",
       "      <th>1</th>\n",
       "      <td>70791025371281551</td>\n",
       "      <td>259801609662367008</td>\n",
       "      <td>2016-03-01</td>\n",
       "      <td>3059125</td>\n",
       "      <td>None</td>\n",
       "      <td>None</td>\n",
       "      <td>None</td>\n",
       "      <td>None</td>\n",
       "      <td>None</td>\n",
       "      <td>None</td>\n",
       "      <td>None</td>\n",
       "      <td>None</td>\n",
       "      <td>None</td>\n",
       "    </tr>\n",
       "    <tr>\n",
       "      <th>2</th>\n",
       "      <td>465700417698566187</td>\n",
       "      <td>45176939920493432</td>\n",
       "      <td>2016-03-01</td>\n",
       "      <td>180274</td>\n",
       "      <td>None</td>\n",
       "      <td>None</td>\n",
       "      <td>None</td>\n",
       "      <td>None</td>\n",
       "      <td>None</td>\n",
       "      <td>None</td>\n",
       "      <td>None</td>\n",
       "      <td>None</td>\n",
       "      <td>None</td>\n",
       "    </tr>\n",
       "    <tr>\n",
       "      <th>3</th>\n",
       "      <td>407857309985061022</td>\n",
       "      <td>326933391607916864</td>\n",
       "      <td>2016-03-01</td>\n",
       "      <td>201442</td>\n",
       "      <td>None</td>\n",
       "      <td>None</td>\n",
       "      <td>None</td>\n",
       "      <td>None</td>\n",
       "      <td>None</td>\n",
       "      <td>None</td>\n",
       "      <td>None</td>\n",
       "      <td>None</td>\n",
       "      <td>None</td>\n",
       "    </tr>\n",
       "    <tr>\n",
       "      <th>4</th>\n",
       "      <td>307511480788033140</td>\n",
       "      <td>24277422899724312</td>\n",
       "      <td>2016-03-01</td>\n",
       "      <td>1605335</td>\n",
       "      <td>None</td>\n",
       "      <td>None</td>\n",
       "      <td>None</td>\n",
       "      <td>None</td>\n",
       "      <td>None</td>\n",
       "      <td>None</td>\n",
       "      <td>None</td>\n",
       "      <td>None</td>\n",
       "      <td>None</td>\n",
       "    </tr>\n",
       "  </tbody>\n",
       "</table>\n",
       "</div>"
      ],
      "text/plain": [
       "                   id          usuario_id     creado  Num_seguidores  \\\n",
       "0  313140980321868905  259801609662367008 2016-03-01         3059122   \n",
       "1   70791025371281551  259801609662367008 2016-03-01         3059125   \n",
       "2  465700417698566187   45176939920493432 2016-03-01          180274   \n",
       "3  407857309985061022  326933391607916864 2016-03-01          201442   \n",
       "4  307511480788033140   24277422899724312 2016-03-01         1605335   \n",
       "\n",
       "  atributo_color_1 atributo_color_2 atributo_color_3 atributo_tela_1  \\\n",
       "0             None             None             None            None   \n",
       "1             None             None             None            None   \n",
       "2             None             None             None            None   \n",
       "3             None             None             None            None   \n",
       "4             None             None             None            None   \n",
       "\n",
       "  atributo_tela_2 atributo_tela_3 atributo_estilo_1 atributo_estilo_2  \\\n",
       "0            None            None              None              None   \n",
       "1            None            None              None              None   \n",
       "2            None            None              None              None   \n",
       "3            None            None              None              None   \n",
       "4            None            None              None              None   \n",
       "\n",
       "  atributo_estilo_3  \n",
       "0              None  \n",
       "1              None  \n",
       "2              None  \n",
       "3              None  \n",
       "4              None  "
      ]
     },
     "execution_count": 78,
     "metadata": {},
     "output_type": "execute_result"
    }
   ],
   "source": [
    "df_atributos_bin.head()"
   ]
  },
  {
   "cell_type": "markdown",
   "metadata": {},
   "source": [
    "Remover valor \"None\" de la respectiva lista de cada atributo"
   ]
  },
  {
   "cell_type": "code",
   "execution_count": 79,
   "metadata": {},
   "outputs": [
    {
     "ename": "ValueError",
     "evalue": "list.remove(x): x not in list",
     "output_type": "error",
     "traceback": [
      "\u001b[0;31m---------------------------------------------------------------------------\u001b[0m",
      "\u001b[0;31mValueError\u001b[0m                                Traceback (most recent call last)",
      "\u001b[0;32m<ipython-input-79-bde8735b23e6>\u001b[0m in \u001b[0;36m<module>\u001b[0;34m\u001b[0m\n\u001b[0;32m----> 1\u001b[0;31m \u001b[0mcolor\u001b[0m\u001b[0;34m.\u001b[0m\u001b[0mremove\u001b[0m\u001b[0;34m(\u001b[0m\u001b[0;32mNone\u001b[0m\u001b[0;34m)\u001b[0m\u001b[0;34m\u001b[0m\u001b[0;34m\u001b[0m\u001b[0m\n\u001b[0m\u001b[1;32m      2\u001b[0m \u001b[0mtela\u001b[0m\u001b[0;34m.\u001b[0m\u001b[0mremove\u001b[0m\u001b[0;34m(\u001b[0m\u001b[0;32mNone\u001b[0m\u001b[0;34m)\u001b[0m\u001b[0;34m\u001b[0m\u001b[0;34m\u001b[0m\u001b[0m\n\u001b[1;32m      3\u001b[0m \u001b[0mestilo\u001b[0m\u001b[0;34m.\u001b[0m\u001b[0mremove\u001b[0m\u001b[0;34m(\u001b[0m\u001b[0;32mNone\u001b[0m\u001b[0;34m)\u001b[0m\u001b[0;34m\u001b[0m\u001b[0;34m\u001b[0m\u001b[0m\n",
      "\u001b[0;31mValueError\u001b[0m: list.remove(x): x not in list"
     ]
    }
   ],
   "source": [
    "color.remove(None)\n",
    "tela.remove(None)\n",
    "estilo.remove(None)"
   ]
  },
  {
   "cell_type": "markdown",
   "metadata": {},
   "source": [
    "#### Etiquetado binario a base de condicion por atributo (color, tela y estilo)"
   ]
  },
  {
   "cell_type": "markdown",
   "metadata": {},
   "source": [
    "El número maximo que se tiene de elementos por atributo es de 3 cada uno"
   ]
  },
  {
   "cell_type": "code",
   "execution_count": 80,
   "metadata": {},
   "outputs": [
    {
     "name": "stderr",
     "output_type": "stream",
     "text": [
      "/Users/JuanLeyva/opt/anaconda3/lib/python3.7/site-packages/pandas/core/frame.py:3678: SettingWithCopyWarning: \n",
      "A value is trying to be set on a copy of a slice from a DataFrame.\n",
      "Try using .loc[row_indexer,col_indexer] = value instead\n",
      "\n",
      "See the caveats in the documentation: https://pandas.pydata.org/pandas-docs/stable/user_guide/indexing.html#returning-a-view-versus-a-copy\n",
      "  self[col] = igetitem(value, i)\n"
     ]
    }
   ],
   "source": [
    "df_atributos_bin[[\"atributo_color_1\",\"atributo_color_2\",\"atributo_color_3\"]] = np.where(df_atributos_bin[[\"atributo_color_1\",\"atributo_color_2\",\"atributo_color_3\"]].isin(color), '1','0')\n",
    "df_atributos_bin[[\"atributo_tela_1\",\"atributo_tela_2\",\"atributo_tela_3\"]] = np.where(df_atributos_bin[[\"atributo_tela_1\",\"atributo_tela_2\",\"atributo_tela_3\"]].isin(tela), '1','0')\n",
    "df_atributos_bin[[\"atributo_estilo_1\",\"atributo_estilo_2\",\"atributo_estilo_3\"]] = np.where(df_atributos_bin[[\"atributo_estilo_1\",\"atributo_estilo_2\",\"atributo_estilo_3\"]].isin(estilo), '1','0')"
   ]
  },
  {
   "cell_type": "markdown",
   "metadata": {},
   "source": [
    "#### Dataframe con pines que tienen detectan al menos un atributo - dimension (20538 filas, 13 columnas)"
   ]
  },
  {
   "cell_type": "markdown",
   "metadata": {},
   "source": [
    "##### Delimitar a solo pines que contengan al menos un atributo (color, tela y estilo) igual a 1"
   ]
  },
  {
   "cell_type": "code",
   "execution_count": 81,
   "metadata": {},
   "outputs": [],
   "source": [
    "df_atributos_bin = df_atributos_bin[(df_atributos_bin.atributo_color_1 == \"1\") | (df_atributos_bin.atributo_tela_1 == \"1\") | (df_atributos_bin.atributo_estilo_1 == \"1\")].reset_index()\n"
   ]
  },
  {
   "cell_type": "markdown",
   "metadata": {},
   "source": [
    "##### Eliminar columna [index]"
   ]
  },
  {
   "cell_type": "code",
   "execution_count": 82,
   "metadata": {},
   "outputs": [],
   "source": [
    "df_atributos_bin = df_atributos_bin.drop(columns = [\"index\"])"
   ]
  },
  {
   "cell_type": "code",
   "execution_count": 83,
   "metadata": {},
   "outputs": [
    {
     "data": {
      "text/html": [
       "<div>\n",
       "<style scoped>\n",
       "    .dataframe tbody tr th:only-of-type {\n",
       "        vertical-align: middle;\n",
       "    }\n",
       "\n",
       "    .dataframe tbody tr th {\n",
       "        vertical-align: top;\n",
       "    }\n",
       "\n",
       "    .dataframe thead th {\n",
       "        text-align: right;\n",
       "    }\n",
       "</style>\n",
       "<table border=\"1\" class=\"dataframe\">\n",
       "  <thead>\n",
       "    <tr style=\"text-align: right;\">\n",
       "      <th></th>\n",
       "      <th>id</th>\n",
       "      <th>usuario_id</th>\n",
       "      <th>creado</th>\n",
       "      <th>Num_seguidores</th>\n",
       "      <th>atributo_color_1</th>\n",
       "      <th>atributo_color_2</th>\n",
       "      <th>atributo_color_3</th>\n",
       "      <th>atributo_tela_1</th>\n",
       "      <th>atributo_tela_2</th>\n",
       "      <th>atributo_tela_3</th>\n",
       "      <th>atributo_estilo_1</th>\n",
       "      <th>atributo_estilo_2</th>\n",
       "      <th>atributo_estilo_3</th>\n",
       "    </tr>\n",
       "  </thead>\n",
       "  <tbody>\n",
       "    <tr>\n",
       "      <th>0</th>\n",
       "      <td>129689664247791019</td>\n",
       "      <td>129689801677865344</td>\n",
       "      <td>2016-03-01</td>\n",
       "      <td>748646</td>\n",
       "      <td>0</td>\n",
       "      <td>0</td>\n",
       "      <td>0</td>\n",
       "      <td>0</td>\n",
       "      <td>0</td>\n",
       "      <td>0</td>\n",
       "      <td>1</td>\n",
       "      <td>0</td>\n",
       "      <td>0</td>\n",
       "    </tr>\n",
       "    <tr>\n",
       "      <th>1</th>\n",
       "      <td>492651646718979160</td>\n",
       "      <td>465559817637892800</td>\n",
       "      <td>2016-03-01</td>\n",
       "      <td>2781</td>\n",
       "      <td>0</td>\n",
       "      <td>0</td>\n",
       "      <td>0</td>\n",
       "      <td>0</td>\n",
       "      <td>0</td>\n",
       "      <td>0</td>\n",
       "      <td>1</td>\n",
       "      <td>0</td>\n",
       "      <td>0</td>\n",
       "    </tr>\n",
       "    <tr>\n",
       "      <th>2</th>\n",
       "      <td>223420831492840339</td>\n",
       "      <td>137289626049056160</td>\n",
       "      <td>2016-03-01</td>\n",
       "      <td>4287730</td>\n",
       "      <td>0</td>\n",
       "      <td>0</td>\n",
       "      <td>0</td>\n",
       "      <td>0</td>\n",
       "      <td>0</td>\n",
       "      <td>0</td>\n",
       "      <td>1</td>\n",
       "      <td>0</td>\n",
       "      <td>0</td>\n",
       "    </tr>\n",
       "    <tr>\n",
       "      <th>3</th>\n",
       "      <td>238339005257824737</td>\n",
       "      <td>238339142688181504</td>\n",
       "      <td>2016-03-01</td>\n",
       "      <td>0</td>\n",
       "      <td>0</td>\n",
       "      <td>0</td>\n",
       "      <td>0</td>\n",
       "      <td>1</td>\n",
       "      <td>1</td>\n",
       "      <td>1</td>\n",
       "      <td>0</td>\n",
       "      <td>0</td>\n",
       "      <td>0</td>\n",
       "    </tr>\n",
       "    <tr>\n",
       "      <th>4</th>\n",
       "      <td>43558321373797279</td>\n",
       "      <td>43558458804407040</td>\n",
       "      <td>2016-03-01</td>\n",
       "      <td>0</td>\n",
       "      <td>1</td>\n",
       "      <td>1</td>\n",
       "      <td>0</td>\n",
       "      <td>0</td>\n",
       "      <td>0</td>\n",
       "      <td>0</td>\n",
       "      <td>0</td>\n",
       "      <td>0</td>\n",
       "      <td>0</td>\n",
       "    </tr>\n",
       "    <tr>\n",
       "      <th>...</th>\n",
       "      <td>...</td>\n",
       "      <td>...</td>\n",
       "      <td>...</td>\n",
       "      <td>...</td>\n",
       "      <td>...</td>\n",
       "      <td>...</td>\n",
       "      <td>...</td>\n",
       "      <td>...</td>\n",
       "      <td>...</td>\n",
       "      <td>...</td>\n",
       "      <td>...</td>\n",
       "      <td>...</td>\n",
       "      <td>...</td>\n",
       "    </tr>\n",
       "    <tr>\n",
       "      <th>14509</th>\n",
       "      <td>842313936552154067</td>\n",
       "      <td>560416884789374464</td>\n",
       "      <td>2020-09-29</td>\n",
       "      <td>8149</td>\n",
       "      <td>0</td>\n",
       "      <td>0</td>\n",
       "      <td>0</td>\n",
       "      <td>1</td>\n",
       "      <td>1</td>\n",
       "      <td>1</td>\n",
       "      <td>1</td>\n",
       "      <td>1</td>\n",
       "      <td>0</td>\n",
       "    </tr>\n",
       "    <tr>\n",
       "      <th>14510</th>\n",
       "      <td>704602304195741431</td>\n",
       "      <td>699113679563577984</td>\n",
       "      <td>2020-09-29</td>\n",
       "      <td>61</td>\n",
       "      <td>0</td>\n",
       "      <td>0</td>\n",
       "      <td>0</td>\n",
       "      <td>1</td>\n",
       "      <td>1</td>\n",
       "      <td>0</td>\n",
       "      <td>0</td>\n",
       "      <td>0</td>\n",
       "      <td>0</td>\n",
       "    </tr>\n",
       "    <tr>\n",
       "      <th>14511</th>\n",
       "      <td>56224695337645650</td>\n",
       "      <td>23432997969621924</td>\n",
       "      <td>2020-09-30</td>\n",
       "      <td>683462</td>\n",
       "      <td>1</td>\n",
       "      <td>1</td>\n",
       "      <td>0</td>\n",
       "      <td>0</td>\n",
       "      <td>0</td>\n",
       "      <td>0</td>\n",
       "      <td>0</td>\n",
       "      <td>0</td>\n",
       "      <td>0</td>\n",
       "    </tr>\n",
       "    <tr>\n",
       "      <th>14512</th>\n",
       "      <td>98094098123977732</td>\n",
       "      <td>121104814888194720</td>\n",
       "      <td>2020-09-30</td>\n",
       "      <td>10785</td>\n",
       "      <td>1</td>\n",
       "      <td>1</td>\n",
       "      <td>1</td>\n",
       "      <td>0</td>\n",
       "      <td>0</td>\n",
       "      <td>0</td>\n",
       "      <td>1</td>\n",
       "      <td>1</td>\n",
       "      <td>1</td>\n",
       "    </tr>\n",
       "    <tr>\n",
       "      <th>14513</th>\n",
       "      <td>52706258127631437</td>\n",
       "      <td>52706395547501048</td>\n",
       "      <td>2020-09-30</td>\n",
       "      <td>526393</td>\n",
       "      <td>1</td>\n",
       "      <td>1</td>\n",
       "      <td>1</td>\n",
       "      <td>0</td>\n",
       "      <td>0</td>\n",
       "      <td>0</td>\n",
       "      <td>0</td>\n",
       "      <td>0</td>\n",
       "      <td>0</td>\n",
       "    </tr>\n",
       "  </tbody>\n",
       "</table>\n",
       "<p>14514 rows × 13 columns</p>\n",
       "</div>"
      ],
      "text/plain": [
       "                       id          usuario_id     creado  Num_seguidores  \\\n",
       "0      129689664247791019  129689801677865344 2016-03-01          748646   \n",
       "1      492651646718979160  465559817637892800 2016-03-01            2781   \n",
       "2      223420831492840339  137289626049056160 2016-03-01         4287730   \n",
       "3      238339005257824737  238339142688181504 2016-03-01               0   \n",
       "4       43558321373797279   43558458804407040 2016-03-01               0   \n",
       "...                   ...                 ...        ...             ...   \n",
       "14509  842313936552154067  560416884789374464 2020-09-29            8149   \n",
       "14510  704602304195741431  699113679563577984 2020-09-29              61   \n",
       "14511   56224695337645650   23432997969621924 2020-09-30          683462   \n",
       "14512   98094098123977732  121104814888194720 2020-09-30           10785   \n",
       "14513   52706258127631437   52706395547501048 2020-09-30          526393   \n",
       "\n",
       "      atributo_color_1 atributo_color_2 atributo_color_3 atributo_tela_1  \\\n",
       "0                    0                0                0               0   \n",
       "1                    0                0                0               0   \n",
       "2                    0                0                0               0   \n",
       "3                    0                0                0               1   \n",
       "4                    1                1                0               0   \n",
       "...                ...              ...              ...             ...   \n",
       "14509                0                0                0               1   \n",
       "14510                0                0                0               1   \n",
       "14511                1                1                0               0   \n",
       "14512                1                1                1               0   \n",
       "14513                1                1                1               0   \n",
       "\n",
       "      atributo_tela_2 atributo_tela_3 atributo_estilo_1 atributo_estilo_2  \\\n",
       "0                   0               0                 1                 0   \n",
       "1                   0               0                 1                 0   \n",
       "2                   0               0                 1                 0   \n",
       "3                   1               1                 0                 0   \n",
       "4                   0               0                 0                 0   \n",
       "...               ...             ...               ...               ...   \n",
       "14509               1               1                 1                 1   \n",
       "14510               1               0                 0                 0   \n",
       "14511               0               0                 0                 0   \n",
       "14512               0               0                 1                 1   \n",
       "14513               0               0                 0                 0   \n",
       "\n",
       "      atributo_estilo_3  \n",
       "0                     0  \n",
       "1                     0  \n",
       "2                     0  \n",
       "3                     0  \n",
       "4                     0  \n",
       "...                 ...  \n",
       "14509                 0  \n",
       "14510                 0  \n",
       "14511                 0  \n",
       "14512                 1  \n",
       "14513                 0  \n",
       "\n",
       "[14514 rows x 13 columns]"
      ]
     },
     "execution_count": 83,
     "metadata": {},
     "output_type": "execute_result"
    }
   ],
   "source": [
    "df_atributos_bin"
   ]
  },
  {
   "cell_type": "markdown",
   "metadata": {},
   "source": [
    "##### Exportar dataframe a archivo csv"
   ]
  },
  {
   "cell_type": "code",
   "execution_count": 84,
   "metadata": {},
   "outputs": [],
   "source": [
    "df_atributos_bin.to_csv('df_atributos_bin.csv')"
   ]
  },
  {
   "cell_type": "code",
   "execution_count": null,
   "metadata": {},
   "outputs": [],
   "source": []
  }
 ],
 "metadata": {
  "kernelspec": {
   "display_name": "Python 3",
   "language": "python",
   "name": "python3"
  },
  "language_info": {
   "codemirror_mode": {
    "name": "ipython",
    "version": 3
   },
   "file_extension": ".py",
   "mimetype": "text/x-python",
   "name": "python",
   "nbconvert_exporter": "python",
   "pygments_lexer": "ipython3",
   "version": "3.7.6"
  }
 },
 "nbformat": 4,
 "nbformat_minor": 4
}
