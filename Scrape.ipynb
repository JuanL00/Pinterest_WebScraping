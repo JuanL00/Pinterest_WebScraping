{
 "cells": [
  {
   "cell_type": "markdown",
   "metadata": {},
   "source": [
    "## Importamos librerias"
   ]
  },
  {
   "cell_type": "code",
   "execution_count": 3,
   "metadata": {},
   "outputs": [],
   "source": [
    "import json\n",
    "import os\n",
    "import requests\n",
    "import mimetypes\n",
    "import requests.cookies\n",
    "import pandas as pd\n",
    "from bs4 import BeautifulSoup\n",
    "from requests.structures import CaseInsensitiveDict\n",
    "import selenium"
   ]
  },
  {
   "cell_type": "code",
   "execution_count": 4,
   "metadata": {},
   "outputs": [],
   "source": [
    "from selenium import webdriver\n",
    "from selenium.webdriver.chrome.options import Options\n",
    "from webdriver_manager.chrome import ChromeDriverManager\n",
    "from selenium.webdriver.support.ui import WebDriverWait\n",
    "from selenium.webdriver.common.by import By\n",
    "from selenium.webdriver.support import expected_conditions as EC\n",
    "from selenium.webdriver.common.proxy import Proxy, ProxyType"
   ]
  },
  {
   "cell_type": "code",
   "execution_count": 5,
   "metadata": {},
   "outputs": [],
   "source": [
    "import py3pin.Pinterest"
   ]
  },
  {
   "cell_type": "markdown",
   "metadata": {},
   "source": [
    "## Pinterest Scraping"
   ]
  },
  {
   "cell_type": "code",
   "execution_count": 4,
   "metadata": {},
   "outputs": [
    {
     "name": "stdout",
     "output_type": "stream",
     "text": [
      "No credentials stored [Errno 2] No such file or directory: '/Users/JuanLeyva/Documents/Coppel/juanclg2016@gmail.com'\n",
      "\n"
     ]
    }
   ],
   "source": [
    "from py3pin.Pinterest import Pinterest\n",
    "from bs4 import BeautifulSoup\n",
    "import json\n",
    "username = 'juanclg'\n",
    "password = 'PruebaScrap21'\n",
    "email = 'juanclg2016@gmail.com'\n",
    "cred_root = '/Users/JuanLeyva/Documents/Coppel'\n",
    "\n",
    "pinterest = Pinterest(email=email,\n",
    "                      password=password,\n",
    "                      username=username,\n",
    "                      cred_root=cred_root\n",
    "                      )\n",
    "\n",
    "\n",
    "resFn = []\n",
    "for x in range(5):\n",
    "  res = pinterest.search(\"boards\",\"swimsuits\",250)\n",
    "  #print(x)\n",
    "  #Eliminamos el primer item ya que este no es un pin\n",
    "  try:\n",
    "    res.remove(res[0])\n",
    "  except:\n",
    "    print('')\n",
    "  resFn.append(res)"
   ]
  },
  {
   "cell_type": "code",
   "execution_count": 6,
   "metadata": {},
   "outputs": [
    {
     "ename": "NameError",
     "evalue": "name 'cargar_pin' is not defined",
     "output_type": "error",
     "traceback": [
      "\u001b[0;31m---------------------------------------------------------------------------\u001b[0m",
      "\u001b[0;31mNameError\u001b[0m                                 Traceback (most recent call last)",
      "\u001b[0;32m<ipython-input-6-be4e4d979966>\u001b[0m in \u001b[0;36m<module>\u001b[0;34m\u001b[0m\n\u001b[1;32m     11\u001b[0m     \u001b[0;31m#if(item)\u001b[0m\u001b[0;34m\u001b[0m\u001b[0;34m\u001b[0m\u001b[0;34m\u001b[0m\u001b[0m\n\u001b[1;32m     12\u001b[0m     \u001b[0;31m#print(item['id'])\u001b[0m\u001b[0;34m\u001b[0m\u001b[0;34m\u001b[0m\u001b[0;34m\u001b[0m\u001b[0m\n\u001b[0;32m---> 13\u001b[0;31m     \u001b[0mpin_data\u001b[0m \u001b[0;34m=\u001b[0m \u001b[0mcargar_pin\u001b[0m\u001b[0;34m(\u001b[0m \u001b[0mitem\u001b[0m\u001b[0;34m[\u001b[0m\u001b[0;34m'id'\u001b[0m\u001b[0;34m]\u001b[0m\u001b[0;34m)\u001b[0m\u001b[0;34m\u001b[0m\u001b[0;34m\u001b[0m\u001b[0m\n\u001b[0m\u001b[1;32m     14\u001b[0m     \u001b[0;32mif\u001b[0m\u001b[0;34m(\u001b[0m\u001b[0mpin_data\u001b[0m \u001b[0;34m!=\u001b[0m \u001b[0;34m''\u001b[0m\u001b[0;34m)\u001b[0m\u001b[0;34m:\u001b[0m\u001b[0;34m\u001b[0m\u001b[0;34m\u001b[0m\u001b[0m\n\u001b[1;32m     15\u001b[0m       \u001b[0;31m#print(item['id'] + 'despues')\u001b[0m\u001b[0;34m\u001b[0m\u001b[0;34m\u001b[0m\u001b[0;34m\u001b[0m\u001b[0m\n",
      "\u001b[0;31mNameError\u001b[0m: name 'cargar_pin' is not defined"
     ]
    }
   ],
   "source": [
    "from datetime import date\n",
    "today = date.today()\n",
    "fecha = today.strftime(\"%d_%m_%Y\")\n",
    "\n",
    "pin_obj = {'pin_id': 0,'userId':'','domain': '','img_Url': '','comment':'','created_at':'','follower_count':0, 'locale':''}\n",
    "pin_obj_Det = { 'pin_id':0,'userId': '','date': '','comment_id': 0,'comment': ''}\n",
    "df = pd.DataFrame(data= pin_obj, index=[0])\n",
    "df_detalle = pd.DataFrame(data= pin_obj_Det, index=[0])\n",
    "for i in resFn:\n",
    "  for item in i:\n",
    "    #if(item)\n",
    "    #print(item['id'])\n",
    "    pin_data = cargar_pin( item['id'])\n",
    "    if(pin_data != ''):\n",
    "      #print(item['id'] + 'despues')\n",
    "      #Obtener encabezado del pin.\n",
    "      \"\"\"\n",
    "      pin_obj = {\n",
    "        \"pin_id\": pin_data['id'],\n",
    "        \"userId\": pin_data['pinner']['username'],\n",
    "        \"domain\": pin_data[\"domain\"],\n",
    "        \"img_Url\": pin_data['images'][\"orig\"][\"url\"],\n",
    "        \"comment\": pin_data['description_html']}\n",
    "      \"\"\"  \n",
    "      \n",
    "      if(pin_data[\"link_domain\"] is None or pin_data[\"link_domain\"]['official_user'] is None):\n",
    "        if(pin_data['origin_pinner'] is None):\n",
    "          followers = 0\n",
    "          localizacion = ''\n",
    "          pinner = pin_data['pinner']\n",
    "        else: \n",
    "          if(pin_data['closeup_attribution'] is None):\n",
    "            followers = 0\n",
    "            pinner = 0\n",
    "          else:\n",
    "            followers = pin_data['closeup_attribution']['follower_count']#pin_data['origin_pcloseup_attributioninner']['follower_count']\n",
    "            pinner = pin_data['closeup_attribution']['id']#pin_data['origin_pinner']['id']\n",
    "            pinner = pin_data['closeup_attribution']['locale']#pin_data['origin_pinner']['id']\n",
    "      else:\n",
    "        if(pin_data['closeup_attribution'] is None):\n",
    "           followers = pin_data[\"link_domain\"]['official_user']['follower_count']\n",
    "           localizacion = pin_data[\"link_domain\"]['official_user']['locale']\n",
    "           pinner = pin_data['pinner']\n",
    "        else:\n",
    "           followers = pin_data['closeup_attribution']['follower_count']#pin_data['origin_pcloseup_attributioninner']['follower_count']\n",
    "           pinner = pin_data['closeup_attribution']['id']#pin_data['origin_pinner']['id']\n",
    "           localizacion = pin_data[\"link_domain\"]['official_user']['locale']\n",
    "\n",
    "      lista = (pin_data['id'],pinner,#['username'],\n",
    "        pin_data[\"domain\"],\n",
    "        pin_data['images'][\"orig\"][\"url\"],\n",
    "        pin_data['description_html'], pin_data['created_at'], \n",
    "        followers,\n",
    "        localizacion)\n",
    "      \n",
    "      \n",
    "      \n",
    "      df_length = len(df)\n",
    "      df.loc[df_length] = lista\n",
    "      #csv_columns = ['pin_id','userId','domain', 'img_Url','comment']\n",
    "      df.to_csv('/Users/JuanLeyva/Documents/Coppel/swimsuits.csv')\n",
    "    # df.to_csv('/Users/JuanLeyva/Documents/Coppel/encabezado_.csv',',')\n",
    "      #Limpiar bookmark_manager.bookmark_map\n",
    "      pinterest.bookmark_manager.bookmark_map.clear()\n",
    "      #print(pin_obj)\n",
    "      #pins.append(item[\"cover_pin\"]['pin_id'])\n",
    "      #Obtener comentarios del pin\n",
    "      results = []\n",
    "      \"\"\"search_batch = cargar_comentarios_Desde_Pin(pin_data)\n",
    "      #print(pinid, len(search_batch))\n",
    "      while len(search_batch) > 0:\n",
    "        results += search_batch\n",
    "        search_batch = cargar_comentarios_Desde_Pin(pin_data) \n",
    "      for comentario in results:\n",
    "        #Obtener detalle del pin.\n",
    "        lista_det = (pin_data['id'],comentario['user']['username'],comentario[\"created_at\"],comentario['id'],comentario['text'])\n",
    "        df_length = len(df_detalle)\n",
    "        df_detalle.loc[df_length] = lista_det\n",
    "        #csv_columns = ['pin_id','userId','domain', 'img_Url','comment']\n",
    "        #df_detalle.to_csv('/content/drive/MyDrive/Colab Notebooks/Pinterest/Pinterest Scraper/DataBase/detalle.csv',',')\n",
    "        df_detalle.to_csv('/drive/MyDrive/Colab Notebooks/Pinterest/Pinterest Scraper/DataBase/detalle.csv',',')\n",
    "\n",
    "          pin_obj_Det =  {\n",
    "          \"pin_id\": pin_data['id'],\n",
    "          \"userId\": comentario['user']['username'],\n",
    "          \"date\": comentario[\"created_at\"],\n",
    "          \"comment_id\": comentario['id'],\n",
    "          \"comment\": comentario['text']\n",
    "                  }\n",
    "        \"\"\"\n",
    "    "
   ]
  },
  {
   "cell_type": "code",
   "execution_count": null,
   "metadata": {},
   "outputs": [],
   "source": []
  }
 ],
 "metadata": {
  "kernelspec": {
   "display_name": "Python 3",
   "language": "python",
   "name": "python3"
  },
  "language_info": {
   "codemirror_mode": {
    "name": "ipython",
    "version": 3
   },
   "file_extension": ".py",
   "mimetype": "text/x-python",
   "name": "python",
   "nbconvert_exporter": "python",
   "pygments_lexer": "ipython3",
   "version": "3.7.6"
  }
 },
 "nbformat": 4,
 "nbformat_minor": 4
}
