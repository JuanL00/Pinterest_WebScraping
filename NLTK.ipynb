{
 "cells": [
  {
   "cell_type": "markdown",
   "metadata": {
    "id": "hL_SJC_uEOKp"
   },
   "source": [
    "# Natural Language Processing"
   ]
  },
  {
   "cell_type": "markdown",
   "metadata": {
    "id": "XOQDy4LzEOK6"
   },
   "source": [
    "### Importamos las librerias necesarias"
   ]
  },
  {
   "cell_type": "code",
   "execution_count": 4,
   "metadata": {
    "executionInfo": {
     "elapsed": 2147,
     "status": "ok",
     "timestamp": 1635611936476,
     "user": {
      "displayName": "Juan Manuel Barraza",
      "photoUrl": "https://lh3.googleusercontent.com/a-/AOh14GgdhesWVq9NoB1Qrzdsy14w-hBC0AVX2Qv5CeL2Bw=s64",
      "userId": "02610041514929248718"
     },
     "user_tz": 360
    },
    "id": "MtwVOX4xEOK9"
   },
   "outputs": [],
   "source": [
    "import openpyxl\n",
    "import pandas as pd\n",
    "import numpy as np\n",
    "import matplotlib.pyplot as plt\n",
    "import seaborn as sns\n",
    "import nltk\n",
    "import glob\n",
    "from nltk.corpus import stopwords\n",
    "from nltk.tokenize import word_tokenize"
   ]
  },
  {
   "cell_type": "markdown",
   "metadata": {
    "id": "yeiYpgQiEOLB"
   },
   "source": [
    "### Leemos los archivos csv descargados de pinterest"
   ]
  },
  {
   "cell_type": "code",
   "execution_count": 7,
   "metadata": {
    "executionInfo": {
     "elapsed": 188,
     "status": "ok",
     "timestamp": 1635612521234,
     "user": {
      "displayName": "Juan Manuel Barraza",
      "photoUrl": "https://lh3.googleusercontent.com/a-/AOh14GgdhesWVq9NoB1Qrzdsy14w-hBC0AVX2Qv5CeL2Bw=s64",
      "userId": "02610041514929248718"
     },
     "user_tz": 360
    },
    "id": "wv2gJ8K_EOLC"
   },
   "outputs": [
    {
     "data": {
      "text/plain": [
       "[]"
      ]
     },
     "execution_count": 7,
     "metadata": {},
     "output_type": "execute_result"
    }
   ],
   "source": [
    "csv = glob.glob('/*.csv')\n",
    "\n",
    "\n",
    "lista = []\n",
    "\n",
    "for archivo in csv:\n",
    "    datos = pd.read_csv(archivo)\n",
    "    lista.append(datos)\n",
    "\n",
    "lista\n",
    "\n",
    "#df = pd.concat(lista)"
   ]
  },
  {
   "cell_type": "code",
   "execution_count": 6,
   "metadata": {},
   "outputs": [
    {
     "data": {
      "text/plain": [
       "[]"
      ]
     },
     "execution_count": 6,
     "metadata": {},
     "output_type": "execute_result"
    }
   ],
   "source": []
  },
  {
   "cell_type": "code",
   "execution_count": null,
   "metadata": {},
   "outputs": [],
   "source": []
  },
  {
   "cell_type": "markdown",
   "metadata": {
    "id": "kv5FJDZpEOLF"
   },
   "source": [
    "#### Analizamos que tipo de datos contienen los Dataframe"
   ]
  },
  {
   "cell_type": "code",
   "execution_count": 19,
   "metadata": {
    "colab": {
     "base_uri": "https://localhost:8080/",
     "height": 195
    },
    "executionInfo": {
     "elapsed": 252,
     "status": "ok",
     "timestamp": 1635612571427,
     "user": {
      "displayName": "Juan Manuel Barraza",
      "photoUrl": "https://lh3.googleusercontent.com/a-/AOh14GgdhesWVq9NoB1Qrzdsy14w-hBC0AVX2Qv5CeL2Bw=s64",
      "userId": "02610041514929248718"
     },
     "user_tz": 360
    },
    "id": "Q2zjn4GhEOLG",
    "outputId": "00c15341-0abf-4c5d-beab-94de63c59b90"
   },
   "outputs": [
    {
     "data": {
      "text/html": [
       "<div>\n",
       "<style scoped>\n",
       "    .dataframe tbody tr th:only-of-type {\n",
       "        vertical-align: middle;\n",
       "    }\n",
       "\n",
       "    .dataframe tbody tr th {\n",
       "        vertical-align: top;\n",
       "    }\n",
       "\n",
       "    .dataframe thead th {\n",
       "        text-align: right;\n",
       "    }\n",
       "</style>\n",
       "<table border=\"1\" class=\"dataframe\">\n",
       "  <thead>\n",
       "    <tr style=\"text-align: right;\">\n",
       "      <th></th>\n",
       "      <th>Unnamed: 0</th>\n",
       "      <th>id</th>\n",
       "      <th>userId</th>\n",
       "      <th>domain</th>\n",
       "      <th>img_Url</th>\n",
       "      <th>comentarios</th>\n",
       "      <th>created_at</th>\n",
       "      <th>follower_count</th>\n",
       "      <th>locale</th>\n",
       "    </tr>\n",
       "  </thead>\n",
       "  <tbody>\n",
       "    <tr>\n",
       "      <th>0</th>\n",
       "      <td>0</td>\n",
       "      <td>0</td>\n",
       "      <td>NaN</td>\n",
       "      <td>NaN</td>\n",
       "      <td>NaN</td>\n",
       "      <td>NaN</td>\n",
       "      <td>1900-01-01</td>\n",
       "      <td>0</td>\n",
       "      <td>NaN</td>\n",
       "    </tr>\n",
       "    <tr>\n",
       "      <th>1</th>\n",
       "      <td>1</td>\n",
       "      <td>64176363427732084</td>\n",
       "      <td>807974126806387335</td>\n",
       "      <td>es.aliexpress.com</td>\n",
       "      <td>https://i.pinimg.com/originals/94/26/20/942620...</td>\n",
       "      <td></td>\n",
       "      <td>Thu, 23 Apr 2020 22:11:41 +0000</td>\n",
       "      <td>2797258</td>\n",
       "      <td>en-US</td>\n",
       "    </tr>\n",
       "    <tr>\n",
       "      <th>2</th>\n",
       "      <td>2</td>\n",
       "      <td>100205160447059706</td>\n",
       "      <td>100205297867484461</td>\n",
       "      <td>binged.it</td>\n",
       "      <td>https://i.pinimg.com/originals/ae/12/52/ae1252...</td>\n",
       "      <td></td>\n",
       "      <td>Fri, 15 May 2020 02:42:22 +0000</td>\n",
       "      <td>0</td>\n",
       "      <td>NaN</td>\n",
       "    </tr>\n",
       "  </tbody>\n",
       "</table>\n",
       "</div>"
      ],
      "text/plain": [
       "   Unnamed: 0                  id  ... follower_count locale\n",
       "0           0                   0  ...              0    NaN\n",
       "1           1   64176363427732084  ...        2797258  en-US\n",
       "2           2  100205160447059706  ...              0    NaN\n",
       "\n",
       "[3 rows x 9 columns]"
      ]
     },
     "execution_count": 19,
     "metadata": {},
     "output_type": "execute_result"
    }
   ],
   "source": [
    "df.rename(columns={'pin_id':'id','comment':'comentarios'}, inplace=True)#.head(3)\n",
    "df.head(3)"
   ]
  },
  {
   "cell_type": "code",
   "execution_count": 20,
   "metadata": {
    "colab": {
     "base_uri": "https://localhost:8080/"
    },
    "executionInfo": {
     "elapsed": 156,
     "status": "ok",
     "timestamp": 1635612598128,
     "user": {
      "displayName": "Juan Manuel Barraza",
      "photoUrl": "https://lh3.googleusercontent.com/a-/AOh14GgdhesWVq9NoB1Qrzdsy14w-hBC0AVX2Qv5CeL2Bw=s64",
      "userId": "02610041514929248718"
     },
     "user_tz": 360
    },
    "id": "FeFdzA8nEOLI",
    "outputId": "44b73eb4-ea67-404e-a165-2de090499943"
   },
   "outputs": [
    {
     "data": {
      "text/plain": [
       "Unnamed: 0         int64\n",
       "id                 int64\n",
       "userId            object\n",
       "domain            object\n",
       "img_Url           object\n",
       "comentarios       object\n",
       "created_at        object\n",
       "follower_count     int64\n",
       "locale            object\n",
       "dtype: object"
      ]
     },
     "execution_count": 20,
     "metadata": {},
     "output_type": "execute_result"
    }
   ],
   "source": [
    "df.dtypes"
   ]
  },
  {
   "cell_type": "code",
   "execution_count": null,
   "metadata": {
    "id": "DNEwJoO2EOLL",
    "outputId": "272a4e15-f5a3-4687-8a2d-f3717d7193cb"
   },
   "outputs": [
    {
     "data": {
      "text/plain": [
       "Unnamed: 0        5192\n",
       "id                5192\n",
       "userId            5187\n",
       "domain            5187\n",
       "img_Url           5187\n",
       "comentarios       5187\n",
       "created_at        5188\n",
       "follower_count    5192\n",
       "locale            4220\n",
       "dtype: int64"
      ]
     },
     "execution_count": 331,
     "metadata": {},
     "output_type": "execute_result"
    }
   ],
   "source": [
    "df.count()"
   ]
  },
  {
   "cell_type": "markdown",
   "metadata": {
    "id": "zdqukoVNEOLR"
   },
   "source": [
    "#### Seleccionamos las columnas de nuestro interés"
   ]
  },
  {
   "cell_type": "code",
   "execution_count": 21,
   "metadata": {
    "colab": {
     "base_uri": "https://localhost:8080/",
     "height": 422
    },
    "executionInfo": {
     "elapsed": 175,
     "status": "ok",
     "timestamp": 1635612604285,
     "user": {
      "displayName": "Juan Manuel Barraza",
      "photoUrl": "https://lh3.googleusercontent.com/a-/AOh14GgdhesWVq9NoB1Qrzdsy14w-hBC0AVX2Qv5CeL2Bw=s64",
      "userId": "02610041514929248718"
     },
     "user_tz": 360
    },
    "id": "vAnyxuvdEOLU",
    "outputId": "73fd104c-6ed1-4475-a312-167c0ef61b93"
   },
   "outputs": [
    {
     "data": {
      "text/html": [
       "<div>\n",
       "<style scoped>\n",
       "    .dataframe tbody tr th:only-of-type {\n",
       "        vertical-align: middle;\n",
       "    }\n",
       "\n",
       "    .dataframe tbody tr th {\n",
       "        vertical-align: top;\n",
       "    }\n",
       "\n",
       "    .dataframe thead th {\n",
       "        text-align: right;\n",
       "    }\n",
       "</style>\n",
       "<table border=\"1\" class=\"dataframe\">\n",
       "  <thead>\n",
       "    <tr style=\"text-align: right;\">\n",
       "      <th></th>\n",
       "      <th>id</th>\n",
       "      <th>comentarios</th>\n",
       "    </tr>\n",
       "  </thead>\n",
       "  <tbody>\n",
       "    <tr>\n",
       "      <th>0</th>\n",
       "      <td>0</td>\n",
       "      <td>NaN</td>\n",
       "    </tr>\n",
       "    <tr>\n",
       "      <th>1</th>\n",
       "      <td>64176363427732084</td>\n",
       "      <td></td>\n",
       "    </tr>\n",
       "    <tr>\n",
       "      <th>2</th>\n",
       "      <td>100205160447059706</td>\n",
       "      <td></td>\n",
       "    </tr>\n",
       "    <tr>\n",
       "      <th>3</th>\n",
       "      <td>300052393923723565</td>\n",
       "      <td>Este moderno traje de baño: | 39 Productos par...</td>\n",
       "    </tr>\n",
       "    <tr>\n",
       "      <th>4</th>\n",
       "      <td>1125968643728748</td>\n",
       "      <td>Resultado de imagen para swimsuitS 2016</td>\n",
       "    </tr>\n",
       "    <tr>\n",
       "      <th>...</th>\n",
       "      <td>...</td>\n",
       "      <td>...</td>\n",
       "    </tr>\n",
       "    <tr>\n",
       "      <th>913</th>\n",
       "      <td>575334921145674455</td>\n",
       "      <td>Black ruffle Madison swimsuit by Rad Swim</td>\n",
       "    </tr>\n",
       "    <tr>\n",
       "      <th>914</th>\n",
       "      <td>423408802461251602</td>\n",
       "      <td>Time to update your wardrobe~ From seaside to ...</td>\n",
       "    </tr>\n",
       "    <tr>\n",
       "      <th>915</th>\n",
       "      <td>318207529930791095</td>\n",
       "      <td>Size:XL;Color:Cyan;Size:L;Size:M;Size:XXL;Size...</td>\n",
       "    </tr>\n",
       "    <tr>\n",
       "      <th>916</th>\n",
       "      <td>250372060519000334</td>\n",
       "      <td>UO Amber Button-Down Linen Midi Dress | Urban ...</td>\n",
       "    </tr>\n",
       "    <tr>\n",
       "      <th>917</th>\n",
       "      <td>401313016794583739</td>\n",
       "      <td>Mara Hoffman Supernova Jacquard Swimsuit - Bla...</td>\n",
       "    </tr>\n",
       "  </tbody>\n",
       "</table>\n",
       "<p>5192 rows × 2 columns</p>\n",
       "</div>"
      ],
      "text/plain": [
       "                     id                                        comentarios\n",
       "0                     0                                                NaN\n",
       "1     64176363427732084                                                   \n",
       "2    100205160447059706                                                   \n",
       "3    300052393923723565  Este moderno traje de baño: | 39 Productos par...\n",
       "4      1125968643728748            Resultado de imagen para swimsuitS 2016\n",
       "..                  ...                                                ...\n",
       "913  575334921145674455          Black ruffle Madison swimsuit by Rad Swim\n",
       "914  423408802461251602  Time to update your wardrobe~ From seaside to ...\n",
       "915  318207529930791095  Size:XL;Color:Cyan;Size:L;Size:M;Size:XXL;Size...\n",
       "916  250372060519000334  UO Amber Button-Down Linen Midi Dress | Urban ...\n",
       "917  401313016794583739  Mara Hoffman Supernova Jacquard Swimsuit - Bla...\n",
       "\n",
       "[5192 rows x 2 columns]"
      ]
     },
     "execution_count": 21,
     "metadata": {},
     "output_type": "execute_result"
    }
   ],
   "source": [
    "df.loc[:,[\"id\",\"comentarios\"]]"
   ]
  },
  {
   "cell_type": "markdown",
   "metadata": {
    "id": "m94SrD-JEOLX"
   },
   "source": [
    "### Transformamos a NaN los espacios en blanco que teniamos en nuestros csv"
   ]
  },
  {
   "cell_type": "code",
   "execution_count": 22,
   "metadata": {
    "executionInfo": {
     "elapsed": 175,
     "status": "ok",
     "timestamp": 1635612625307,
     "user": {
      "displayName": "Juan Manuel Barraza",
      "photoUrl": "https://lh3.googleusercontent.com/a-/AOh14GgdhesWVq9NoB1Qrzdsy14w-hBC0AVX2Qv5CeL2Bw=s64",
      "userId": "02610041514929248718"
     },
     "user_tz": 360
    },
    "id": "c8kFrocOEOLb"
   },
   "outputs": [],
   "source": [
    "df.dropna(axis=0, subset=[\"comentarios\"])\n",
    "df[\"comentarios\"] = df[\"comentarios\"].replace(' ', np.nan, inplace=False)"
   ]
  },
  {
   "cell_type": "markdown",
   "metadata": {
    "id": "2qc8FDHEEOLd"
   },
   "source": [
    "### Muestra de los tres primeros pines del df1"
   ]
  },
  {
   "cell_type": "code",
   "execution_count": null,
   "metadata": {
    "id": "-y2tMW6UEOLe",
    "outputId": "2c94f323-2ad4-4b91-f5ac-d1b1dce2eb9a",
    "scrolled": true
   },
   "outputs": [
    {
     "data": {
      "text/html": [
       "<div>\n",
       "<style scoped>\n",
       "    .dataframe tbody tr th:only-of-type {\n",
       "        vertical-align: middle;\n",
       "    }\n",
       "\n",
       "    .dataframe tbody tr th {\n",
       "        vertical-align: top;\n",
       "    }\n",
       "\n",
       "    .dataframe thead th {\n",
       "        text-align: right;\n",
       "    }\n",
       "</style>\n",
       "<table border=\"1\" class=\"dataframe\">\n",
       "  <thead>\n",
       "    <tr style=\"text-align: right;\">\n",
       "      <th></th>\n",
       "      <th>contador</th>\n",
       "      <th>id</th>\n",
       "      <th>comentarios</th>\n",
       "    </tr>\n",
       "  </thead>\n",
       "  <tbody>\n",
       "    <tr>\n",
       "      <th>0</th>\n",
       "      <td>5</td>\n",
       "      <td>1002613935763564396</td>\n",
       "      <td>Brand Name: COZOKMaterial: PolyesterOrigin: CN...</td>\n",
       "    </tr>\n",
       "    <tr>\n",
       "      <th>1</th>\n",
       "      <td>17</td>\n",
       "      <td>207939707785742035</td>\n",
       "      <td>Outfit para la playa con sombrero de playa 2020</td>\n",
       "    </tr>\n",
       "    <tr>\n",
       "      <th>2</th>\n",
       "      <td>18</td>\n",
       "      <td>313915036529600169</td>\n",
       "      <td>white tie up monokini swimsuits 2020 one piece...</td>\n",
       "    </tr>\n",
       "    <tr>\n",
       "      <th>3</th>\n",
       "      <td>19</td>\n",
       "      <td>584553226628630563</td>\n",
       "      <td>New swimsuit 2020 ladies cherry printed pleate...</td>\n",
       "    </tr>\n",
       "    <tr>\n",
       "      <th>4</th>\n",
       "      <td>29</td>\n",
       "      <td>18929260928078410</td>\n",
       "      <td>Eres una chica muy Bonita y multimillonaria. E...</td>\n",
       "    </tr>\n",
       "  </tbody>\n",
       "</table>\n",
       "</div>"
      ],
      "text/plain": [
       "   contador                   id  \\\n",
       "0         5  1002613935763564396   \n",
       "1        17   207939707785742035   \n",
       "2        18   313915036529600169   \n",
       "3        19   584553226628630563   \n",
       "4        29    18929260928078410   \n",
       "\n",
       "                                         comentarios  \n",
       "0  Brand Name: COZOKMaterial: PolyesterOrigin: CN...  \n",
       "1    Outfit para la playa con sombrero de playa 2020  \n",
       "2  white tie up monokini swimsuits 2020 one piece...  \n",
       "3  New swimsuit 2020 ladies cherry printed pleate...  \n",
       "4  Eres una chica muy Bonita y multimillonaria. E...  "
      ]
     },
     "execution_count": 338,
     "metadata": {},
     "output_type": "execute_result"
    }
   ],
   "source": [
    "df.head()"
   ]
  },
  {
   "cell_type": "markdown",
   "metadata": {
    "id": "AMhUhGf-EOLf"
   },
   "source": [
    "### Eliminamos los pines con comentarios NaN "
   ]
  },
  {
   "cell_type": "code",
   "execution_count": 23,
   "metadata": {
    "executionInfo": {
     "elapsed": 158,
     "status": "ok",
     "timestamp": 1635612653858,
     "user": {
      "displayName": "Juan Manuel Barraza",
      "photoUrl": "https://lh3.googleusercontent.com/a-/AOh14GgdhesWVq9NoB1Qrzdsy14w-hBC0AVX2Qv5CeL2Bw=s64",
      "userId": "02610041514929248718"
     },
     "user_tz": 360
    },
    "id": "RYbYRd7jEOLh"
   },
   "outputs": [],
   "source": [
    "df = df.dropna(axis=0, subset=[\"comentarios\"])\n",
    "df = df[[\"id\",\"comentarios\"]].reset_index()\n",
    "df.rename(columns={\"index\":\"contador\"},inplace=True)"
   ]
  },
  {
   "cell_type": "code",
   "execution_count": null,
   "metadata": {
    "id": "zb1HB7WYEOLj",
    "outputId": "9e4fd296-79f3-42c9-9e66-5c719a33e7b9"
   },
   "outputs": [
    {
     "data": {
      "text/html": [
       "<div>\n",
       "<style scoped>\n",
       "    .dataframe tbody tr th:only-of-type {\n",
       "        vertical-align: middle;\n",
       "    }\n",
       "\n",
       "    .dataframe tbody tr th {\n",
       "        vertical-align: top;\n",
       "    }\n",
       "\n",
       "    .dataframe thead th {\n",
       "        text-align: right;\n",
       "    }\n",
       "</style>\n",
       "<table border=\"1\" class=\"dataframe\">\n",
       "  <thead>\n",
       "    <tr style=\"text-align: right;\">\n",
       "      <th></th>\n",
       "      <th>contador</th>\n",
       "      <th>id</th>\n",
       "      <th>comentarios</th>\n",
       "    </tr>\n",
       "  </thead>\n",
       "  <tbody>\n",
       "    <tr>\n",
       "      <th>0</th>\n",
       "      <td>5</td>\n",
       "      <td>1002613935763564396</td>\n",
       "      <td>Brand Name: COZOKMaterial: PolyesterOrigin: CN...</td>\n",
       "    </tr>\n",
       "    <tr>\n",
       "      <th>1</th>\n",
       "      <td>17</td>\n",
       "      <td>207939707785742035</td>\n",
       "      <td>Outfit para la playa con sombrero de playa 2020</td>\n",
       "    </tr>\n",
       "    <tr>\n",
       "      <th>2</th>\n",
       "      <td>18</td>\n",
       "      <td>313915036529600169</td>\n",
       "      <td>white tie up monokini swimsuits 2020 one piece...</td>\n",
       "    </tr>\n",
       "    <tr>\n",
       "      <th>3</th>\n",
       "      <td>19</td>\n",
       "      <td>584553226628630563</td>\n",
       "      <td>New swimsuit 2020 ladies cherry printed pleate...</td>\n",
       "    </tr>\n",
       "    <tr>\n",
       "      <th>4</th>\n",
       "      <td>29</td>\n",
       "      <td>18929260928078410</td>\n",
       "      <td>Eres una chica muy Bonita y multimillonaria. E...</td>\n",
       "    </tr>\n",
       "    <tr>\n",
       "      <th>...</th>\n",
       "      <td>...</td>\n",
       "      <td>...</td>\n",
       "      <td>...</td>\n",
       "    </tr>\n",
       "    <tr>\n",
       "      <th>2995</th>\n",
       "      <td>1061</td>\n",
       "      <td>356347389242841750</td>\n",
       "      <td>Boss Bikini</td>\n",
       "    </tr>\n",
       "    <tr>\n",
       "      <th>2996</th>\n",
       "      <td>1062</td>\n",
       "      <td>459578336970505335</td>\n",
       "      <td>sport geometric one piece swimsuit</td>\n",
       "    </tr>\n",
       "    <tr>\n",
       "      <th>2997</th>\n",
       "      <td>1063</td>\n",
       "      <td>296956169188921001</td>\n",
       "      <td>Nao Kanzaki and a few friends: Sakura Miyawaki...</td>\n",
       "    </tr>\n",
       "    <tr>\n",
       "      <th>2998</th>\n",
       "      <td>1064</td>\n",
       "      <td>505669864390407041</td>\n",
       "      <td>Lace Romper Cover Up</td>\n",
       "    </tr>\n",
       "    <tr>\n",
       "      <th>2999</th>\n",
       "      <td>1065</td>\n",
       "      <td>270990102556757533</td>\n",
       "      <td>Encyclopaedia halter neck swimsuit</td>\n",
       "    </tr>\n",
       "  </tbody>\n",
       "</table>\n",
       "<p>3000 rows × 3 columns</p>\n",
       "</div>"
      ],
      "text/plain": [
       "      contador                   id  \\\n",
       "0            5  1002613935763564396   \n",
       "1           17   207939707785742035   \n",
       "2           18   313915036529600169   \n",
       "3           19   584553226628630563   \n",
       "4           29    18929260928078410   \n",
       "...        ...                  ...   \n",
       "2995      1061   356347389242841750   \n",
       "2996      1062   459578336970505335   \n",
       "2997      1063   296956169188921001   \n",
       "2998      1064   505669864390407041   \n",
       "2999      1065   270990102556757533   \n",
       "\n",
       "                                            comentarios  \n",
       "0     Brand Name: COZOKMaterial: PolyesterOrigin: CN...  \n",
       "1       Outfit para la playa con sombrero de playa 2020  \n",
       "2     white tie up monokini swimsuits 2020 one piece...  \n",
       "3     New swimsuit 2020 ladies cherry printed pleate...  \n",
       "4     Eres una chica muy Bonita y multimillonaria. E...  \n",
       "...                                                 ...  \n",
       "2995                                        Boss Bikini  \n",
       "2996                 sport geometric one piece swimsuit  \n",
       "2997  Nao Kanzaki and a few friends: Sakura Miyawaki...  \n",
       "2998                               Lace Romper Cover Up  \n",
       "2999                 Encyclopaedia halter neck swimsuit  \n",
       "\n",
       "[3000 rows x 3 columns]"
      ]
     },
     "execution_count": 337,
     "metadata": {},
     "output_type": "execute_result"
    }
   ],
   "source": [
    "df"
   ]
  },
  {
   "cell_type": "code",
   "execution_count": null,
   "metadata": {
    "id": "1hGqlsuNEOLl",
    "outputId": "52796a35-37dc-4f22-8b97-0a22e022b0fd"
   },
   "outputs": [
    {
     "data": {
      "text/plain": [
       "contador       3000\n",
       "id             3000\n",
       "comentarios    3000\n",
       "dtype: int64"
      ]
     },
     "execution_count": 340,
     "metadata": {},
     "output_type": "execute_result"
    }
   ],
   "source": [
    "df.count()"
   ]
  },
  {
   "cell_type": "code",
   "execution_count": 64,
   "metadata": {
    "executionInfo": {
     "elapsed": 256,
     "status": "ok",
     "timestamp": 1635614683194,
     "user": {
      "displayName": "Juan Manuel Barraza",
      "photoUrl": "https://lh3.googleusercontent.com/a-/AOh14GgdhesWVq9NoB1Qrzdsy14w-hBC0AVX2Qv5CeL2Bw=s64",
      "userId": "02610041514929248718"
     },
     "user_tz": 360
    },
    "id": "rXQ4oPIdOhXm"
   },
   "outputs": [],
   "source": [
    "df['minusculas'] = df['comentarios'].apply(lambda x: ' '.join(word.lower() for word in str(x).split()))\n",
    "df['Cleaned'] = df['minusculas'].str.replace('[^\\w\\s]', '')\n",
    "#buscar expresion regular para numeros con porcentaje\n",
    "df['Cleaned'] = df['minusculas'].str.replace('[^\\w\\s]', '')"
   ]
  },
  {
   "cell_type": "markdown",
   "metadata": {
    "id": "wkZ7M4BvEOLn"
   },
   "source": [
    "### Seleccionamos el comentario del pin que queremos Tokenizar"
   ]
  },
  {
   "cell_type": "code",
   "execution_count": null,
   "metadata": {
    "id": "pynpOdomEOLo"
   },
   "outputs": [],
   "source": [
    "#df_comentarios = df.iloc[df1.index.get_loc(3),2]\n",
    "#df_comentarios"
   ]
  },
  {
   "cell_type": "code",
   "execution_count": 38,
   "metadata": {
    "executionInfo": {
     "elapsed": 1754,
     "status": "ok",
     "timestamp": 1635613347175,
     "user": {
      "displayName": "Juan Manuel Barraza",
      "photoUrl": "https://lh3.googleusercontent.com/a-/AOh14GgdhesWVq9NoB1Qrzdsy14w-hBC0AVX2Qv5CeL2Bw=s64",
      "userId": "02610041514929248718"
     },
     "user_tz": 360
    },
    "id": "aSqqoBs5Jfxz"
   },
   "outputs": [],
   "source": [
    "Reviews_noStopWords = []\n",
    "\n",
    "for i in range(len(df)):\n",
    "    \n",
    "    review = str(df['comentarios'][i])\n",
    "    review = review\n",
    "    review = review.lower()\n",
    "    \n",
    "    stop_words = set(stopwords.words('english'))\n",
    "    word_tokens = word_tokenize(review)\n",
    "    filtered_sentence = [w for w in word_tokens if not w.lower() in stop_words]\n",
    "    filtered_sentence = []\n",
    " \n",
    "    for w in word_tokens:\n",
    "        if w not in stop_words:\n",
    "            filtered_sentence.append(w)\n",
    "    \n",
    "    Reviews_noStopWords.append(filtered_sentence)\n",
    "    "
   ]
  },
  {
   "cell_type": "code",
   "execution_count": 58,
   "metadata": {
    "colab": {
     "base_uri": "https://localhost:8080/",
     "height": 189
    },
    "executionInfo": {
     "elapsed": 183,
     "status": "error",
     "timestamp": 1635614466761,
     "user": {
      "displayName": "Juan Manuel Barraza",
      "photoUrl": "https://lh3.googleusercontent.com/a-/AOh14GgdhesWVq9NoB1Qrzdsy14w-hBC0AVX2Qv5CeL2Bw=s64",
      "userId": "02610041514929248718"
     },
     "user_tz": 360
    },
    "id": "T3yDvhbWJxgI",
    "outputId": "f642de0e-37cb-4d83-a10f-4d8a059e9da4"
   },
   "outputs": [
    {
     "ename": "AttributeError",
     "evalue": "ignored",
     "output_type": "error",
     "traceback": [
      "\u001b[0;31m---------------------------------------------------------------------------\u001b[0m",
      "\u001b[0;31mAttributeError\u001b[0m                            Traceback (most recent call last)",
      "\u001b[0;32m<ipython-input-58-d56826fe94f7>\u001b[0m in \u001b[0;36m<module>\u001b[0;34m()\u001b[0m\n\u001b[1;32m      1\u001b[0m \u001b[0;31m#df['No_Stop_Words:Tokens'] =\u001b[0m\u001b[0;34m\u001b[0m\u001b[0;34m\u001b[0m\u001b[0;34m\u001b[0m\u001b[0m\n\u001b[0;32m----> 2\u001b[0;31m \u001b[0mReviews_noStopWords\u001b[0m\u001b[0;34m.\u001b[0m\u001b[0mlower\u001b[0m\u001b[0;34m\u001b[0m\u001b[0;34m\u001b[0m\u001b[0m\n\u001b[0m",
      "\u001b[0;31mAttributeError\u001b[0m: 'list' object has no attribute 'lower'"
     ]
    }
   ],
   "source": [
    "#df['No_Stop_Words:Tokens'] = \n",
    "#df['Lowercase'] = df['text'].apply(lambda x: ' '.join(word.lower() for word in str(x).split()))"
   ]
  },
  {
   "cell_type": "code",
   "execution_count": 56,
   "metadata": {
    "colab": {
     "base_uri": "https://localhost:8080/",
     "height": 54
    },
    "executionInfo": {
     "elapsed": 172,
     "status": "ok",
     "timestamp": 1635614333872,
     "user": {
      "displayName": "Juan Manuel Barraza",
      "photoUrl": "https://lh3.googleusercontent.com/a-/AOh14GgdhesWVq9NoB1Qrzdsy14w-hBC0AVX2Qv5CeL2Bw=s64",
      "userId": "02610041514929248718"
     },
     "user_tz": 360
    },
    "id": "2zvZWqk8LsKr",
    "outputId": "1b1589c4-b995-4c2d-d04f-121fcc6767f9"
   },
   "outputs": [
    {
     "data": {
      "application/vnd.google.colaboratory.intrinsic+json": {
       "type": "string"
      },
      "text/plain": [
       "\"\\nfor i in range(len(df)): \\n    text_list = df['No_Stop_Words:Tokens'][i]\\n    #text_list = df_main.loc[:, ('No_Stop_Words:Tokens', i)]\\n    blank = ''\\n    for word in text_list:\\n        blank = blank+' '+word\\n    # df_main['No_Stop_Words:Sentence'][i] = blank\\n    df.loc[:, ('No_Stop_Words:Sentence', i)] = blank\\n  \""
      ]
     },
     "execution_count": 56,
     "metadata": {},
     "output_type": "execute_result"
    }
   ],
   "source": [
    "\"\"\"\n",
    "for i in range(len(df)): \n",
    "    text_list = df['No_Stop_Words:Tokens'][i]\n",
    "    #text_list = df_main.loc[:, ('No_Stop_Words:Tokens', i)]\n",
    "    blank = ''\n",
    "    for word in text_list:\n",
    "        blank = blank+' '+word\n",
    "    # df_main['No_Stop_Words:Sentence'][i] = blank\n",
    "    df.loc[:, ('No_Stop_Words:Sentence', i)] = blank\n",
    "  \"\"\""
   ]
  },
  {
   "cell_type": "code",
   "execution_count": null,
   "metadata": {
    "id": "ZkEO7C_ZL31y"
   },
   "outputs": [],
   "source": []
  },
  {
   "cell_type": "markdown",
   "metadata": {
    "id": "0VGH5YoaEOLq"
   },
   "source": [
    "### Tokenizamos el comentario y lo filtramos "
   ]
  },
  {
   "cell_type": "code",
   "execution_count": 28,
   "metadata": {
    "colab": {
     "base_uri": "https://localhost:8080/"
    },
    "executionInfo": {
     "elapsed": 214,
     "status": "ok",
     "timestamp": 1635612803788,
     "user": {
      "displayName": "Juan Manuel Barraza",
      "photoUrl": "https://lh3.googleusercontent.com/a-/AOh14GgdhesWVq9NoB1Qrzdsy14w-hBC0AVX2Qv5CeL2Bw=s64",
      "userId": "02610041514929248718"
     },
     "user_tz": 360
    },
    "id": "zlrikJ0xEOLr",
    "outputId": "15f70c7f-7d67-40b3-8303-ba62b946df8b"
   },
   "outputs": [
    {
     "name": "stdout",
     "output_type": "stream",
     "text": [
      "['David', 'Koma', 'at', 'London', 'Fall', '2016', '(', 'Details', ')']\n",
      "\n",
      "**FILTRADO**\n",
      "\n",
      "['David', 'Koma', 'London', 'Fall', '2016', '(', 'Details', ')']\n"
     ]
    }
   ],
   "source": [
    "#import nltk\n",
    "#nltk.download('stopwords')\n",
    "#nltk.download('punkt')\n",
    "\n",
    "stop_words = set(stopwords.words('english'))\n",
    "word_tokens = word_tokenize(df_comentarios)\n",
    "\n",
    "filtered_sentence = [w for w in word_tokens if not w.lower() in stop_words]\n",
    " \n",
    "filtered_sentence = []\n",
    " \n",
    "for w in word_tokens:\n",
    "    if w not in stop_words:\n",
    "        filtered_sentence.append(w)\n",
    "\n",
    "print(word_tokens)\n",
    "print('''\n",
    "**FILTRADO**\n",
    "''')\n",
    "print(filtered_sentence)"
   ]
  },
  {
   "cell_type": "code",
   "execution_count": 29,
   "metadata": {
    "executionInfo": {
     "elapsed": 164,
     "status": "ok",
     "timestamp": 1635612879326,
     "user": {
      "displayName": "Juan Manuel Barraza",
      "photoUrl": "https://lh3.googleusercontent.com/a-/AOh14GgdhesWVq9NoB1Qrzdsy14w-hBC0AVX2Qv5CeL2Bw=s64",
      "userId": "02610041514929248718"
     },
     "user_tz": 360
    },
    "id": "oZme64KlEOLx"
   },
   "outputs": [],
   "source": [
    "listaColores = ['BLUE' , 'YELLOW', 'GREEN']\n",
    "\n"
   ]
  }
 ],
 "metadata": {
  "colab": {
   "name": "NLTK.ipynb",
   "provenance": []
  },
  "kernelspec": {
   "display_name": "Python 3",
   "language": "python",
   "name": "python3"
  },
  "language_info": {
   "codemirror_mode": {
    "name": "ipython",
    "version": 3
   },
   "file_extension": ".py",
   "mimetype": "text/x-python",
   "name": "python",
   "nbconvert_exporter": "python",
   "pygments_lexer": "ipython3",
   "version": "3.7.6"
  }
 },
 "nbformat": 4,
 "nbformat_minor": 4
}
